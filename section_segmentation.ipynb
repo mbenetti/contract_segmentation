{
 "cells": [
  {
   "cell_type": "code",
   "execution_count": 6,
   "metadata": {},
   "outputs": [
    {
     "name": "stdout",
     "output_type": "stream",
     "text": [
      "--####-- Chunk: 0 -####--\n"
     ]
    },
    {
     "data": {
      "text/html": [
       "<pre style=\"white-space:pre;overflow-x:auto;line-height:normal;font-family:Menlo,'DejaVu Sans Mono',consolas,'Courier New',monospace\">Exhibit <span style=\"color: #008080; text-decoration-color: #008080; font-weight: bold\">10.27</span>\n",
       "MARKETING AFFILIATE AGREEMENT\n",
       "Between:\n",
       "Birch First Global Investments Inc.\n",
       "And\n",
       "Mount Knowledge Holdings Inc.\n",
       "Dated: May <span style=\"color: #008080; text-decoration-color: #008080; font-weight: bold\">8</span>, <span style=\"color: #008080; text-decoration-color: #008080; font-weight: bold\">2014</span>\n",
       "<span style=\"color: #008080; text-decoration-color: #008080; font-weight: bold\">1</span>\n",
       "This Marketing Affiliate Agreement <span style=\"font-weight: bold\">(</span>the  Agreement<span style=\"font-weight: bold\">)</span> is entered into this 8th day of May <span style=\"color: #008080; text-decoration-color: #008080; font-weight: bold\">2014</span>, by and between BIRCH \n",
       "FIRST GLOBAL INVESTMENTS INC., a corporation incorporated in the U.S. Virgin Islands, with its main place of \n",
       "business located <span style=\"color: #008080; text-decoration-color: #008080; font-weight: bold\">9100</span> Havensight, Port of Sale, Ste. <span style=\"color: #008080; text-decoration-color: #008080; font-weight: bold\">15</span>/<span style=\"color: #008080; text-decoration-color: #008080; font-weight: bold\">16</span>, St. Thomas, VI <span style=\"color: #008080; text-decoration-color: #008080; font-weight: bold\">0080</span> <span style=\"font-weight: bold\">(</span>referred to as Company<span style=\"font-weight: bold\">)</span> and MOUNT \n",
       "KNOWLEDGE HOLDINGS INC. and/or assigns, a corporation incorporated in the State of Nevada, with its main place of \n",
       "business located at <span style=\"color: #008080; text-decoration-color: #008080; font-weight: bold\">228</span> Park Avenue S. #<span style=\"color: #008080; text-decoration-color: #008080; font-weight: bold\">56101</span> New York, NY <span style=\"color: #008080; text-decoration-color: #008080; font-weight: bold\">100031502</span> <span style=\"font-weight: bold\">(</span>referred to as Marketing Affiliate or MA<span style=\"font-weight: bold\">)</span>.\n",
       "</pre>\n"
      ],
      "text/plain": [
       "Exhibit \u001b[1;36m10.27\u001b[0m\n",
       "MARKETING AFFILIATE AGREEMENT\n",
       "Between:\n",
       "Birch First Global Investments Inc.\n",
       "And\n",
       "Mount Knowledge Holdings Inc.\n",
       "Dated: May \u001b[1;36m8\u001b[0m, \u001b[1;36m2014\u001b[0m\n",
       "\u001b[1;36m1\u001b[0m\n",
       "This Marketing Affiliate Agreement \u001b[1m(\u001b[0mthe  Agreement\u001b[1m)\u001b[0m is entered into this 8th day of May \u001b[1;36m2014\u001b[0m, by and between BIRCH \n",
       "FIRST GLOBAL INVESTMENTS INC., a corporation incorporated in the U.S. Virgin Islands, with its main place of \n",
       "business located \u001b[1;36m9100\u001b[0m Havensight, Port of Sale, Ste. \u001b[1;36m15\u001b[0m/\u001b[1;36m16\u001b[0m, St. Thomas, VI \u001b[1;36m0080\u001b[0m \u001b[1m(\u001b[0mreferred to as Company\u001b[1m)\u001b[0m and MOUNT \n",
       "KNOWLEDGE HOLDINGS INC. and/or assigns, a corporation incorporated in the State of Nevada, with its main place of \n",
       "business located at \u001b[1;36m228\u001b[0m Park Avenue S. #\u001b[1;36m56101\u001b[0m New York, NY \u001b[1;36m100031502\u001b[0m \u001b[1m(\u001b[0mreferred to as Marketing Affiliate or MA\u001b[1m)\u001b[0m.\n"
      ]
     },
     "metadata": {},
     "output_type": "display_data"
    },
    {
     "name": "stdout",
     "output_type": "stream",
     "text": [
      "--####-- Chunk: 1 -####--\n"
     ]
    },
    {
     "data": {
      "text/html": [
       "<pre style=\"white-space:pre;overflow-x:auto;line-height:normal;font-family:Menlo,'DejaVu Sans Mono',consolas,'Courier New',monospace\">WHEREAS, this Agreement is to set forth in a formal agreement the prior verbal understandings between the parties \n",
       "in place since December <span style=\"color: #008080; text-decoration-color: #008080; font-weight: bold\">31</span>, <span style=\"color: #008080; text-decoration-color: #008080; font-weight: bold\">2012</span> pertaining to the business described hereinbelow; and\n",
       "WHEREAS, Company, the owner of certain distribution rights to the Technology, technology and content as set forth \n",
       "in Exhibit A and related technical documentation <span style=\"font-weight: bold\">(</span>hereafter collectively referred to as Technology, wishes to \n",
       "contract for the marketing and/or support of the Technology, and MA wishes to market and/or support the Technology.\n",
       "Accordingly, Company and MA agree as follows:\n",
       "</pre>\n"
      ],
      "text/plain": [
       "WHEREAS, this Agreement is to set forth in a formal agreement the prior verbal understandings between the parties \n",
       "in place since December \u001b[1;36m31\u001b[0m, \u001b[1;36m2012\u001b[0m pertaining to the business described hereinbelow; and\n",
       "WHEREAS, Company, the owner of certain distribution rights to the Technology, technology and content as set forth \n",
       "in Exhibit A and related technical documentation \u001b[1m(\u001b[0mhereafter collectively referred to as Technology, wishes to \n",
       "contract for the marketing and/or support of the Technology, and MA wishes to market and/or support the Technology.\n",
       "Accordingly, Company and MA agree as follows:\n"
      ]
     },
     "metadata": {},
     "output_type": "display_data"
    },
    {
     "name": "stdout",
     "output_type": "stream",
     "text": [
      "--####-- Chunk: 2 -####--\n"
     ]
    },
    {
     "data": {
      "text/html": [
       "<pre style=\"white-space:pre;overflow-x:auto;line-height:normal;font-family:Menlo,'DejaVu Sans Mono',consolas,'Courier New',monospace\"><span style=\"color: #008080; text-decoration-color: #008080; font-weight: bold\">1</span>.\n",
       "Effective Date and Term.\n",
       "This agreement shall begin upon the date of its execution by MA and acceptance in writing by Company and shall \n",
       "remain in effect until the end of the current calendar year and shall be automatically renewed for successive one \n",
       "<span style=\"font-weight: bold\">(</span><span style=\"color: #008080; text-decoration-color: #008080; font-weight: bold\">1</span><span style=\"font-weight: bold\">)</span> year periods unless otherwise terminated according to the cancellation or termination provisions contained in \n",
       "paragraph <span style=\"color: #008080; text-decoration-color: #008080; font-weight: bold\">18</span> of this Agreement. Company and MA acknowledge that this Agreement is not a franchise as that term is \n",
       "defined under any and all applicable local, state and/or federal laws in U.S., as amended.\n",
       "</pre>\n"
      ],
      "text/plain": [
       "\u001b[1;36m1\u001b[0m.\n",
       "Effective Date and Term.\n",
       "This agreement shall begin upon the date of its execution by MA and acceptance in writing by Company and shall \n",
       "remain in effect until the end of the current calendar year and shall be automatically renewed for successive one \n",
       "\u001b[1m(\u001b[0m\u001b[1;36m1\u001b[0m\u001b[1m)\u001b[0m year periods unless otherwise terminated according to the cancellation or termination provisions contained in \n",
       "paragraph \u001b[1;36m18\u001b[0m of this Agreement. Company and MA acknowledge that this Agreement is not a franchise as that term is \n",
       "defined under any and all applicable local, state and/or federal laws in U.S., as amended.\n"
      ]
     },
     "metadata": {},
     "output_type": "display_data"
    },
    {
     "name": "stdout",
     "output_type": "stream",
     "text": [
      "--####-- Chunk: 3 -####--\n"
     ]
    },
    {
     "data": {
      "text/html": [
       "<pre style=\"white-space:pre;overflow-x:auto;line-height:normal;font-family:Menlo,'DejaVu Sans Mono',consolas,'Courier New',monospace\"><span style=\"color: #008080; text-decoration-color: #008080; font-weight: bold\">2</span>.\n",
       "Grant of Rights.\n",
       "</pre>\n"
      ],
      "text/plain": [
       "\u001b[1;36m2\u001b[0m.\n",
       "Grant of Rights.\n"
      ]
     },
     "metadata": {},
     "output_type": "display_data"
    },
    {
     "name": "stdout",
     "output_type": "stream",
     "text": [
      "--####-- Chunk: 4 -####--\n"
     ]
    },
    {
     "data": {
      "text/html": [
       "<pre style=\"white-space:pre;overflow-x:auto;line-height:normal;font-family:Menlo,'DejaVu Sans Mono',consolas,'Courier New',monospace\"><span style=\"color: #008080; text-decoration-color: #008080; font-weight: bold\">2.1</span>\n",
       "General Rights. Subject to the terms and conditions of this Agreement, Company hereby grants to MA the right to \n",
       "advertise, market and sell to corporate users, government agencies and educational facilities <span style=\"font-weight: bold\">(</span>Clients<span style=\"font-weight: bold\">)</span> for their \n",
       "own internal language learning, soft skills and communication purposes only, and not for remarketing or \n",
       "redistribution, and not for use in a data center environment for multiple users Clients, unless otherwise agreed to\n",
       "by Company prior in writing, the Technology listed in Schedule A of this Agreement, and to sell and/or bundle \n",
       "Technology Maintenance for the Technology and to provide first line technical support and implementation services \n",
       "for the Technology in the territories listed in Schedule A of this Agreement, providing MA meets the criteria \n",
       "required for delivering services according to Schedule A.\n",
       "</pre>\n"
      ],
      "text/plain": [
       "\u001b[1;36m2.1\u001b[0m\n",
       "General Rights. Subject to the terms and conditions of this Agreement, Company hereby grants to MA the right to \n",
       "advertise, market and sell to corporate users, government agencies and educational facilities \u001b[1m(\u001b[0mClients\u001b[1m)\u001b[0m for their \n",
       "own internal language learning, soft skills and communication purposes only, and not for remarketing or \n",
       "redistribution, and not for use in a data center environment for multiple users Clients, unless otherwise agreed to\n",
       "by Company prior in writing, the Technology listed in Schedule A of this Agreement, and to sell and/or bundle \n",
       "Technology Maintenance for the Technology and to provide first line technical support and implementation services \n",
       "for the Technology in the territories listed in Schedule A of this Agreement, providing MA meets the criteria \n",
       "required for delivering services according to Schedule A.\n"
      ]
     },
     "metadata": {},
     "output_type": "display_data"
    },
    {
     "name": "stdout",
     "output_type": "stream",
     "text": [
      "--####-- Chunk: 5 -####--\n"
     ]
    },
    {
     "data": {
      "text/html": [
       "<pre style=\"white-space:pre;overflow-x:auto;line-height:normal;font-family:Menlo,'DejaVu Sans Mono',consolas,'Courier New',monospace\"><span style=\"color: #008080; text-decoration-color: #008080; font-weight: bold\">2.2</span>\n",
       "Third Party Rights. Company and MA acknowledge that Company derives certain rights herein from third parties and \n",
       "that Company reserves the right to modify or amend this Agreement if mandated by such third parties.\n",
       "<span style=\"color: #008080; text-decoration-color: #008080; font-weight: bold\">2</span>\n",
       "</pre>\n"
      ],
      "text/plain": [
       "\u001b[1;36m2.2\u001b[0m\n",
       "Third Party Rights. Company and MA acknowledge that Company derives certain rights herein from third parties and \n",
       "that Company reserves the right to modify or amend this Agreement if mandated by such third parties.\n",
       "\u001b[1;36m2\u001b[0m\n"
      ]
     },
     "metadata": {},
     "output_type": "display_data"
    },
    {
     "name": "stdout",
     "output_type": "stream",
     "text": [
      "--####-- Chunk: 6 -####--\n"
     ]
    },
    {
     "data": {
      "text/html": [
       "<pre style=\"white-space:pre;overflow-x:auto;line-height:normal;font-family:Menlo,'DejaVu Sans Mono',consolas,'Courier New',monospace\"><span style=\"color: #008080; text-decoration-color: #008080; font-weight: bold\">3</span>.\n",
       "Duties of MA.\n",
       "</pre>\n"
      ],
      "text/plain": [
       "\u001b[1;36m3\u001b[0m.\n",
       "Duties of MA.\n"
      ]
     },
     "metadata": {},
     "output_type": "display_data"
    },
    {
     "name": "stdout",
     "output_type": "stream",
     "text": [
      "--####-- Chunk: 7 -####--\n"
     ]
    },
    {
     "data": {
      "text/html": [
       "<pre style=\"white-space:pre;overflow-x:auto;line-height:normal;font-family:Menlo,'DejaVu Sans Mono',consolas,'Courier New',monospace\"><span style=\"color: #008080; text-decoration-color: #008080; font-weight: bold\">3.1</span>\n",
       "Best Efforts. MA agrees to use its best efforts to market and license the Technology to Clients consistent with the\n",
       "terms of this Agreement.\n",
       "</pre>\n"
      ],
      "text/plain": [
       "\u001b[1;36m3.1\u001b[0m\n",
       "Best Efforts. MA agrees to use its best efforts to market and license the Technology to Clients consistent with the\n",
       "terms of this Agreement.\n"
      ]
     },
     "metadata": {},
     "output_type": "display_data"
    },
    {
     "name": "stdout",
     "output_type": "stream",
     "text": [
      "--####-- Chunk: 8 -####--\n"
     ]
    },
    {
     "data": {
      "text/html": [
       "<pre style=\"white-space:pre;overflow-x:auto;line-height:normal;font-family:Menlo,'DejaVu Sans Mono',consolas,'Courier New',monospace\"><span style=\"color: #008080; text-decoration-color: #008080; font-weight: bold\">3.2</span>\n",
       "License Agreement. MA shall execute a Company License Agreement/Client Registration Form with Clients and present \n",
       "that License Agreement/Client Registration Form to Company after each purchase of the Technology.\n",
       "Upon the execution of this Agreement, Company shall provide copies of its end user license agreements to MA. MA \n",
       "shall promptly review such agreements and advise Company as to what revisions, if any, should be made to the end \n",
       "user license agreements for resale in the Territory set forth in Schedule A to ensure that the agreements comply \n",
       "with requirements of local law in the Territory, and that Company has protection concerning proprietary rights, \n",
       "warranty disclaimers and limitations of liability under such local and federal laws of the U.S.\n",
       "For purposes of this Agreement, the Technology means the electronic access to programs, content and documentation, \n",
       "and Company's end user license agreement as it may be modified by Company for use in the Territory. The \n",
       "relationship between the corporate user and Company and/or its Affiliates shall be as specified in the applicable \n",
       "Company end user license agreement. Notwithstanding the foregoing, as between Company and MA, MA shall be \n",
       "responsible as defined for providing customer and technical support to end users in the Territory. MA will notify \n",
       "Company immediately in the event that it is unable to respond effectively to any end users requests.\n",
       "</pre>\n"
      ],
      "text/plain": [
       "\u001b[1;36m3.2\u001b[0m\n",
       "License Agreement. MA shall execute a Company License Agreement/Client Registration Form with Clients and present \n",
       "that License Agreement/Client Registration Form to Company after each purchase of the Technology.\n",
       "Upon the execution of this Agreement, Company shall provide copies of its end user license agreements to MA. MA \n",
       "shall promptly review such agreements and advise Company as to what revisions, if any, should be made to the end \n",
       "user license agreements for resale in the Territory set forth in Schedule A to ensure that the agreements comply \n",
       "with requirements of local law in the Territory, and that Company has protection concerning proprietary rights, \n",
       "warranty disclaimers and limitations of liability under such local and federal laws of the U.S.\n",
       "For purposes of this Agreement, the Technology means the electronic access to programs, content and documentation, \n",
       "and Company's end user license agreement as it may be modified by Company for use in the Territory. The \n",
       "relationship between the corporate user and Company and/or its Affiliates shall be as specified in the applicable \n",
       "Company end user license agreement. Notwithstanding the foregoing, as between Company and MA, MA shall be \n",
       "responsible as defined for providing customer and technical support to end users in the Territory. MA will notify \n",
       "Company immediately in the event that it is unable to respond effectively to any end users requests.\n"
      ]
     },
     "metadata": {},
     "output_type": "display_data"
    },
    {
     "name": "stdout",
     "output_type": "stream",
     "text": [
      "--####-- Chunk: 9 -####--\n"
     ]
    },
    {
     "data": {
      "text/html": [
       "<pre style=\"white-space:pre;overflow-x:auto;line-height:normal;font-family:Menlo,'DejaVu Sans Mono',consolas,'Courier New',monospace\"><span style=\"color: #008080; text-decoration-color: #008080; font-weight: bold\">3.3</span>\n",
       "Copyrights and Trademarks. MA shall protect copyrights, tradenames, trademarks, service marks, trade secrets and \n",
       "other confidential proprietary rights and information of Company and its affiliates and report promptly any \n",
       "infringements or suspected infringements of which MA becomes aware and to cooperate fully with Company in its \n",
       "efforts to protect its copyrights, tradenames, trademarks, service marks, trade secrets and other confidential \n",
       "proprietary rights and information.\n",
       "</pre>\n"
      ],
      "text/plain": [
       "\u001b[1;36m3.3\u001b[0m\n",
       "Copyrights and Trademarks. MA shall protect copyrights, tradenames, trademarks, service marks, trade secrets and \n",
       "other confidential proprietary rights and information of Company and its affiliates and report promptly any \n",
       "infringements or suspected infringements of which MA becomes aware and to cooperate fully with Company in its \n",
       "efforts to protect its copyrights, tradenames, trademarks, service marks, trade secrets and other confidential \n",
       "proprietary rights and information.\n"
      ]
     },
     "metadata": {},
     "output_type": "display_data"
    },
    {
     "name": "stdout",
     "output_type": "stream",
     "text": [
      "--####-- Chunk: 10 -####--\n"
     ]
    },
    {
     "data": {
      "text/html": [
       "<pre style=\"white-space:pre;overflow-x:auto;line-height:normal;font-family:Menlo,'DejaVu Sans Mono',consolas,'Courier New',monospace\"><span style=\"color: #008080; text-decoration-color: #008080; font-weight: bold\">3.4</span>\n",
       "No Alternations. MA agrees not to remove or alter in any manner any copyright, trademark or other proprietary \n",
       "notices contained in the Technology.\n",
       "</pre>\n"
      ],
      "text/plain": [
       "\u001b[1;36m3.4\u001b[0m\n",
       "No Alternations. MA agrees not to remove or alter in any manner any copyright, trademark or other proprietary \n",
       "notices contained in the Technology.\n"
      ]
     },
     "metadata": {},
     "output_type": "display_data"
    },
    {
     "name": "stdout",
     "output_type": "stream",
     "text": [
      "--####-- Chunk: 11 -####--\n"
     ]
    },
    {
     "data": {
      "text/html": [
       "<pre style=\"white-space:pre;overflow-x:auto;line-height:normal;font-family:Menlo,'DejaVu Sans Mono',consolas,'Courier New',monospace\"><span style=\"color: #008080; text-decoration-color: #008080; font-weight: bold\">3.5</span>\n",
       "Permits, Licenses and Compliance with Laws. MA shall be responsible and shall bear all costs for complying with \n",
       "local, state, provincial, federal, national, and international statutes, rules, regulations and ordinances of any \n",
       "kind which related to or affect MAs duties under this Agreement.\n",
       "</pre>\n"
      ],
      "text/plain": [
       "\u001b[1;36m3.5\u001b[0m\n",
       "Permits, Licenses and Compliance with Laws. MA shall be responsible and shall bear all costs for complying with \n",
       "local, state, provincial, federal, national, and international statutes, rules, regulations and ordinances of any \n",
       "kind which related to or affect MAs duties under this Agreement.\n"
      ]
     },
     "metadata": {},
     "output_type": "display_data"
    },
    {
     "name": "stdout",
     "output_type": "stream",
     "text": [
      "--####-- Chunk: 12 -####--\n"
     ]
    },
    {
     "data": {
      "text/html": [
       "<pre style=\"white-space:pre;overflow-x:auto;line-height:normal;font-family:Menlo,'DejaVu Sans Mono',consolas,'Courier New',monospace\"><span style=\"color: #008080; text-decoration-color: #008080; font-weight: bold\">3.6</span>\n",
       "Product Support. MA agrees, when specified, to provide Clients with the support necessary to meet the reasonable \n",
       "needs and requirements for installation and operation of the Technology.\n",
       "<span style=\"color: #008080; text-decoration-color: #008080; font-weight: bold\">3</span>\n",
       "</pre>\n"
      ],
      "text/plain": [
       "\u001b[1;36m3.6\u001b[0m\n",
       "Product Support. MA agrees, when specified, to provide Clients with the support necessary to meet the reasonable \n",
       "needs and requirements for installation and operation of the Technology.\n",
       "\u001b[1;36m3\u001b[0m\n"
      ]
     },
     "metadata": {},
     "output_type": "display_data"
    },
    {
     "name": "stdout",
     "output_type": "stream",
     "text": [
      "--####-- Chunk: 13 -####--\n"
     ]
    },
    {
     "data": {
      "text/html": [
       "<pre style=\"white-space:pre;overflow-x:auto;line-height:normal;font-family:Menlo,'DejaVu Sans Mono',consolas,'Courier New',monospace\"><span style=\"color: #008080; text-decoration-color: #008080; font-weight: bold\">3.7</span>\n",
       "Sales Records. MA shall keep accurate records of the sales of the Technology and Maintenance, including Client \n",
       "Registration Cards and shall make these records available for review by a representative of Company within ten <span style=\"font-weight: bold\">(</span><span style=\"color: #008080; text-decoration-color: #008080; font-weight: bold\">10</span><span style=\"font-weight: bold\">)</span>\n",
       "business days following the end of each month.\n",
       "</pre>\n"
      ],
      "text/plain": [
       "\u001b[1;36m3.7\u001b[0m\n",
       "Sales Records. MA shall keep accurate records of the sales of the Technology and Maintenance, including Client \n",
       "Registration Cards and shall make these records available for review by a representative of Company within ten \u001b[1m(\u001b[0m\u001b[1;36m10\u001b[0m\u001b[1m)\u001b[0m\n",
       "business days following the end of each month.\n"
      ]
     },
     "metadata": {},
     "output_type": "display_data"
    },
    {
     "name": "stdout",
     "output_type": "stream",
     "text": [
      "--####-- Chunk: 14 -####--\n"
     ]
    },
    {
     "data": {
      "text/html": [
       "<pre style=\"white-space:pre;overflow-x:auto;line-height:normal;font-family:Menlo,'DejaVu Sans Mono',consolas,'Courier New',monospace\"><span style=\"color: #008080; text-decoration-color: #008080; font-weight: bold\">3.8</span>\n",
       "Sales and Technical Training . MA shall attend initial marketing, application, and technical training as required \n",
       "and provided by Company; provided, however, that Company shall not require MA to market or support Technology \n",
       "according to a marketing plan or system prescribed in substantial part by Company. The MA will however, be \n",
       "responsible to display and explain in detail the methods by which they plan to achieve the assigned quotas.\n",
       "</pre>\n"
      ],
      "text/plain": [
       "\u001b[1;36m3.8\u001b[0m\n",
       "Sales and Technical Training . MA shall attend initial marketing, application, and technical training as required \n",
       "and provided by Company; provided, however, that Company shall not require MA to market or support Technology \n",
       "according to a marketing plan or system prescribed in substantial part by Company. The MA will however, be \n",
       "responsible to display and explain in detail the methods by which they plan to achieve the assigned quotas.\n"
      ]
     },
     "metadata": {},
     "output_type": "display_data"
    },
    {
     "name": "stdout",
     "output_type": "stream",
     "text": [
      "--####-- Chunk: 15 -####--\n"
     ]
    },
    {
     "data": {
      "text/html": [
       "<pre style=\"white-space:pre;overflow-x:auto;line-height:normal;font-family:Menlo,'DejaVu Sans Mono',consolas,'Courier New',monospace\"><span style=\"color: #008080; text-decoration-color: #008080; font-weight: bold\">3.9</span>\n",
       "Sales Reports. MA shall report periodically in writing, upon request to Company the status of the following:\n",
       "<span style=\"font-weight: bold\">(</span>a<span style=\"font-weight: bold\">)</span> <span style=\"font-weight: bold\">(</span>b<span style=\"font-weight: bold\">)</span> <span style=\"font-weight: bold\">(</span>c<span style=\"font-weight: bold\">)</span> <span style=\"font-weight: bold\">(</span>d<span style=\"font-weight: bold\">)</span>\n",
       "Leads provided by Company Marketing activities in progress Sales forecasts Implementations in progress\n",
       "</pre>\n"
      ],
      "text/plain": [
       "\u001b[1;36m3.9\u001b[0m\n",
       "Sales Reports. MA shall report periodically in writing, upon request to Company the status of the following:\n",
       "\u001b[1m(\u001b[0ma\u001b[1m)\u001b[0m \u001b[1m(\u001b[0mb\u001b[1m)\u001b[0m \u001b[1m(\u001b[0mc\u001b[1m)\u001b[0m \u001b[1m(\u001b[0md\u001b[1m)\u001b[0m\n",
       "Leads provided by Company Marketing activities in progress Sales forecasts Implementations in progress\n"
      ]
     },
     "metadata": {},
     "output_type": "display_data"
    },
    {
     "name": "stdout",
     "output_type": "stream",
     "text": [
      "--####-- Chunk: 16 -####--\n"
     ]
    },
    {
     "data": {
      "text/html": [
       "<pre style=\"white-space:pre;overflow-x:auto;line-height:normal;font-family:Menlo,'DejaVu Sans Mono',consolas,'Courier New',monospace\">MA shall appoint one of its employees to be responsible for such reporting and make the name of such employee \n",
       "available to Company.\n",
       "<span style=\"color: #008080; text-decoration-color: #008080; font-weight: bold\">3.10</span>\n",
       "Marketing Plan. MA shall submit an annual marketing plan to Company outlining, among other things, activities and \n",
       "staffing directed at attaining mutually agreed upon annual sales quotas. The Annual Quota is defined in Schedule A \n",
       "of this Agreement. The annual marketing plan shall be devised solely by MA and MA shall not be required to follow \n",
       "an operating plan, standard procedure, training manual, or its substantial equivalent, published by Company.\n",
       "</pre>\n"
      ],
      "text/plain": [
       "MA shall appoint one of its employees to be responsible for such reporting and make the name of such employee \n",
       "available to Company.\n",
       "\u001b[1;36m3.10\u001b[0m\n",
       "Marketing Plan. MA shall submit an annual marketing plan to Company outlining, among other things, activities and \n",
       "staffing directed at attaining mutually agreed upon annual sales quotas. The Annual Quota is defined in Schedule A \n",
       "of this Agreement. The annual marketing plan shall be devised solely by MA and MA shall not be required to follow \n",
       "an operating plan, standard procedure, training manual, or its substantial equivalent, published by Company.\n"
      ]
     },
     "metadata": {},
     "output_type": "display_data"
    },
    {
     "name": "stdout",
     "output_type": "stream",
     "text": [
      "--####-- Chunk: 17 -####--\n"
     ]
    },
    {
     "data": {
      "text/html": [
       "<pre style=\"white-space:pre;overflow-x:auto;line-height:normal;font-family:Menlo,'DejaVu Sans Mono',consolas,'Courier New',monospace\"><span style=\"color: #008080; text-decoration-color: #008080; font-weight: bold\">3.11</span>\n",
       "Business Practices. Company shall not specify the business practices of MA, nor regulate the manner in which MA \n",
       "shall operate its business, provided that MA <span style=\"font-weight: bold\">(</span>a<span style=\"font-weight: bold\">)</span> conducts business in a manner that reflects favorably at all times\n",
       "on the Technology sold and the good name, goodwill and reputation of Company and its affiliates; <span style=\"font-weight: bold\">(</span>b<span style=\"font-weight: bold\">)</span> avoid \n",
       "deceptive, misleading or unethical practices that are or might be detrimental to Company and/or its Affiliates, the\n",
       "Technology or the public, including but not limited to disparagement of Company or the Technology; <span style=\"font-weight: bold\">(</span>c<span style=\"font-weight: bold\">)</span> make no \n",
       "false or misleading representation with respect to Company or the Technology; and <span style=\"font-weight: bold\">(</span>d<span style=\"font-weight: bold\">)</span> make no representations with \n",
       "respect to Company or the Technology that are inconsistent with any applicable license <span style=\"color: #800080; text-decoration-color: #800080; font-weight: bold\">agreement</span><span style=\"font-weight: bold\">(</span>s<span style=\"font-weight: bold\">)</span> for the \n",
       "Technology provided by Company, promotional materials and other literature distributed by Company pertaining \n",
       "specifically to the Technology, including all liability limitations and disclaimers contained in such materials.\n",
       "</pre>\n"
      ],
      "text/plain": [
       "\u001b[1;36m3.11\u001b[0m\n",
       "Business Practices. Company shall not specify the business practices of MA, nor regulate the manner in which MA \n",
       "shall operate its business, provided that MA \u001b[1m(\u001b[0ma\u001b[1m)\u001b[0m conducts business in a manner that reflects favorably at all times\n",
       "on the Technology sold and the good name, goodwill and reputation of Company and its affiliates; \u001b[1m(\u001b[0mb\u001b[1m)\u001b[0m avoid \n",
       "deceptive, misleading or unethical practices that are or might be detrimental to Company and/or its Affiliates, the\n",
       "Technology or the public, including but not limited to disparagement of Company or the Technology; \u001b[1m(\u001b[0mc\u001b[1m)\u001b[0m make no \n",
       "false or misleading representation with respect to Company or the Technology; and \u001b[1m(\u001b[0md\u001b[1m)\u001b[0m make no representations with \n",
       "respect to Company or the Technology that are inconsistent with any applicable license \u001b[1;35magreement\u001b[0m\u001b[1m(\u001b[0ms\u001b[1m)\u001b[0m for the \n",
       "Technology provided by Company, promotional materials and other literature distributed by Company pertaining \n",
       "specifically to the Technology, including all liability limitations and disclaimers contained in such materials.\n"
      ]
     },
     "metadata": {},
     "output_type": "display_data"
    },
    {
     "name": "stdout",
     "output_type": "stream",
     "text": [
      "--####-- Chunk: 18 -####--\n"
     ]
    },
    {
     "data": {
      "text/html": [
       "<pre style=\"white-space:pre;overflow-x:auto;line-height:normal;font-family:Menlo,'DejaVu Sans Mono',consolas,'Courier New',monospace\"><span style=\"color: #008080; text-decoration-color: #008080; font-weight: bold\">3.12</span>\n",
       "Support and Service Centers. MA may be required to establish and maintain Support Services in the Territory set \n",
       "forth in Schedule A to provide marketing, sales and service support of the Technology licensed from Company.\n",
       "<span style=\"color: #008080; text-decoration-color: #008080; font-weight: bold\">4</span>\n",
       "</pre>\n"
      ],
      "text/plain": [
       "\u001b[1;36m3.12\u001b[0m\n",
       "Support and Service Centers. MA may be required to establish and maintain Support Services in the Territory set \n",
       "forth in Schedule A to provide marketing, sales and service support of the Technology licensed from Company.\n",
       "\u001b[1;36m4\u001b[0m\n"
      ]
     },
     "metadata": {},
     "output_type": "display_data"
    },
    {
     "name": "stdout",
     "output_type": "stream",
     "text": [
      "--####-- Chunk: 19 -####--\n"
     ]
    },
    {
     "data": {
      "text/html": [
       "<pre style=\"white-space:pre;overflow-x:auto;line-height:normal;font-family:Menlo,'DejaVu Sans Mono',consolas,'Courier New',monospace\"><span style=\"color: #008080; text-decoration-color: #008080; font-weight: bold\">4</span>.\n",
       "Duties of Company.\n",
       "</pre>\n"
      ],
      "text/plain": [
       "\u001b[1;36m4\u001b[0m.\n",
       "Duties of Company.\n"
      ]
     },
     "metadata": {},
     "output_type": "display_data"
    },
    {
     "name": "stdout",
     "output_type": "stream",
     "text": [
      "--####-- Chunk: 20 -####--\n"
     ]
    },
    {
     "data": {
      "text/html": [
       "<pre style=\"white-space:pre;overflow-x:auto;line-height:normal;font-family:Menlo,'DejaVu Sans Mono',consolas,'Courier New',monospace\"><span style=\"color: #008080; text-decoration-color: #008080; font-weight: bold\">4.1</span>\n",
       "Commitment. So long as MA is not in default hereunder, Company agrees to provide Technology to MA in accordance \n",
       "with the terms and conditions of this Agreement.\n",
       "</pre>\n"
      ],
      "text/plain": [
       "\u001b[1;36m4.1\u001b[0m\n",
       "Commitment. So long as MA is not in default hereunder, Company agrees to provide Technology to MA in accordance \n",
       "with the terms and conditions of this Agreement.\n"
      ]
     },
     "metadata": {},
     "output_type": "display_data"
    },
    {
     "name": "stdout",
     "output_type": "stream",
     "text": [
      "--####-- Chunk: 21 -####--\n"
     ]
    },
    {
     "data": {
      "text/html": [
       "<pre style=\"white-space:pre;overflow-x:auto;line-height:normal;font-family:Menlo,'DejaVu Sans Mono',consolas,'Courier New',monospace\"><span style=\"color: #008080; text-decoration-color: #008080; font-weight: bold\">4.2</span>\n",
       "Deliverables. Upon the request of MA, Company shall at prices or fees then in effect or mutually agreed upon by the\n",
       "parties:\n",
       "<span style=\"font-weight: bold\">(</span>a<span style=\"font-weight: bold\">)</span>\n",
       "Provide Technology to MA at the discounted prices shown in Schedule A, subject to Companys right to change its \n",
       "prices or fees pursuant to paragraph <span style=\"color: #008080; text-decoration-color: #008080; font-weight: bold\">13</span> of this Agreement.\n",
       "<span style=\"font-weight: bold\">(</span>b<span style=\"font-weight: bold\">)</span>\n",
       "Make available a reasonable marketing information, demonstrations and other sales/marketing aids available from \n",
       "Company relating to the Technology to MA shown in Schedule A.\n",
       "<span style=\"font-weight: bold\">(</span>c<span style=\"font-weight: bold\">)</span>\n",
       "Make available marketing training and support to MA relating to the Technology in Schedule A.\n",
       "<span style=\"font-weight: bold\">(</span>d<span style=\"font-weight: bold\">)</span>\n",
       "Make available technical training and support to MA relating to the Technology in Schedule A.\n",
       "<span style=\"font-weight: bold\">(</span>e<span style=\"font-weight: bold\">)</span>\n",
       "Make available updates of the Technology to MA as they may become available for distribution.\n",
       "</pre>\n"
      ],
      "text/plain": [
       "\u001b[1;36m4.2\u001b[0m\n",
       "Deliverables. Upon the request of MA, Company shall at prices or fees then in effect or mutually agreed upon by the\n",
       "parties:\n",
       "\u001b[1m(\u001b[0ma\u001b[1m)\u001b[0m\n",
       "Provide Technology to MA at the discounted prices shown in Schedule A, subject to Companys right to change its \n",
       "prices or fees pursuant to paragraph \u001b[1;36m13\u001b[0m of this Agreement.\n",
       "\u001b[1m(\u001b[0mb\u001b[1m)\u001b[0m\n",
       "Make available a reasonable marketing information, demonstrations and other sales/marketing aids available from \n",
       "Company relating to the Technology to MA shown in Schedule A.\n",
       "\u001b[1m(\u001b[0mc\u001b[1m)\u001b[0m\n",
       "Make available marketing training and support to MA relating to the Technology in Schedule A.\n",
       "\u001b[1m(\u001b[0md\u001b[1m)\u001b[0m\n",
       "Make available technical training and support to MA relating to the Technology in Schedule A.\n",
       "\u001b[1m(\u001b[0me\u001b[1m)\u001b[0m\n",
       "Make available updates of the Technology to MA as they may become available for distribution.\n"
      ]
     },
     "metadata": {},
     "output_type": "display_data"
    },
    {
     "name": "stdout",
     "output_type": "stream",
     "text": [
      "--####-- Chunk: 22 -####--\n"
     ]
    },
    {
     "data": {
      "text/html": [
       "<pre style=\"white-space:pre;overflow-x:auto;line-height:normal;font-family:Menlo,'DejaVu Sans Mono',consolas,'Courier New',monospace\"><span style=\"color: #008080; text-decoration-color: #008080; font-weight: bold\">4.3</span>\n",
       "No Control. Company shall not require that MA be limited as to the type, quantity or quality of any product or \n",
       "service that MA sells or desires to sell.\n",
       "</pre>\n"
      ],
      "text/plain": [
       "\u001b[1;36m4.3\u001b[0m\n",
       "No Control. Company shall not require that MA be limited as to the type, quantity or quality of any product or \n",
       "service that MA sells or desires to sell.\n"
      ]
     },
     "metadata": {},
     "output_type": "display_data"
    },
    {
     "name": "stdout",
     "output_type": "stream",
     "text": [
      "--####-- Chunk: 23 -####--\n"
     ]
    },
    {
     "data": {
      "text/html": [
       "<pre style=\"white-space:pre;overflow-x:auto;line-height:normal;font-family:Menlo,'DejaVu Sans Mono',consolas,'Courier New',monospace\"><span style=\"color: #008080; text-decoration-color: #008080; font-weight: bold\">4.4</span>\n",
       "No Resale Limitations. Unless otherwise stated in this Agreement, Company shall not require that MA be limited to \n",
       "the persons or accounts to which it may market, distribute or sublicense any product or service that MA sells or \n",
       "desires to sell, including without limitation, the Technology, within the Territory as defined in Schedule A of \n",
       "this Agreement.\n",
       "</pre>\n"
      ],
      "text/plain": [
       "\u001b[1;36m4.4\u001b[0m\n",
       "No Resale Limitations. Unless otherwise stated in this Agreement, Company shall not require that MA be limited to \n",
       "the persons or accounts to which it may market, distribute or sublicense any product or service that MA sells or \n",
       "desires to sell, including without limitation, the Technology, within the Territory as defined in Schedule A of \n",
       "this Agreement.\n"
      ]
     },
     "metadata": {},
     "output_type": "display_data"
    },
    {
     "name": "stdout",
     "output_type": "stream",
     "text": [
      "--####-- Chunk: 24 -####--\n"
     ]
    },
    {
     "data": {
      "text/html": [
       "<pre style=\"white-space:pre;overflow-x:auto;line-height:normal;font-family:Menlo,'DejaVu Sans Mono',consolas,'Courier New',monospace\"><span style=\"color: #008080; text-decoration-color: #008080; font-weight: bold\">4.5</span>\n",
       "No Procedures. Company shall not require procedures for which MA may deal with Clients however will require \n",
       "reasonable levels of satisfaction from the clients related to the services provided by the MA.\n",
       "</pre>\n"
      ],
      "text/plain": [
       "\u001b[1;36m4.5\u001b[0m\n",
       "No Procedures. Company shall not require procedures for which MA may deal with Clients however will require \n",
       "reasonable levels of satisfaction from the clients related to the services provided by the MA.\n"
      ]
     },
     "metadata": {},
     "output_type": "display_data"
    },
    {
     "name": "stdout",
     "output_type": "stream",
     "text": [
      "--####-- Chunk: 25 -####--\n"
     ]
    },
    {
     "data": {
      "text/html": [
       "<pre style=\"white-space:pre;overflow-x:auto;line-height:normal;font-family:Menlo,'DejaVu Sans Mono',consolas,'Courier New',monospace\"><span style=\"color: #008080; text-decoration-color: #008080; font-weight: bold\">5</span>.\n",
       "Annual Quota.\n",
       "The Annual Quota for MA shall be defined in Schedule A of this Agreement. Company reserves the right to adjust or \n",
       "modify the Annual Quota upon renewal of this Agreement or from time to time by mutual agreement of the parties.\n",
       "<span style=\"color: #008080; text-decoration-color: #008080; font-weight: bold\">5</span>\n",
       "</pre>\n"
      ],
      "text/plain": [
       "\u001b[1;36m5\u001b[0m.\n",
       "Annual Quota.\n",
       "The Annual Quota for MA shall be defined in Schedule A of this Agreement. Company reserves the right to adjust or \n",
       "modify the Annual Quota upon renewal of this Agreement or from time to time by mutual agreement of the parties.\n",
       "\u001b[1;36m5\u001b[0m\n"
      ]
     },
     "metadata": {},
     "output_type": "display_data"
    },
    {
     "name": "stdout",
     "output_type": "stream",
     "text": [
      "--####-- Chunk: 26 -####--\n"
     ]
    },
    {
     "data": {
      "text/html": [
       "<pre style=\"white-space:pre;overflow-x:auto;line-height:normal;font-family:Menlo,'DejaVu Sans Mono',consolas,'Courier New',monospace\"><span style=\"color: #008080; text-decoration-color: #008080; font-weight: bold\">6</span>.\n",
       "Territory.\n",
       "The Territory for MA shall be defined in Schedule A of this Agreement. Company reserves the right to adjust or \n",
       "modify the Territory upon renewal of this Agreement or from time to time by mutual agreement of the parties.\n",
       "</pre>\n"
      ],
      "text/plain": [
       "\u001b[1;36m6\u001b[0m.\n",
       "Territory.\n",
       "The Territory for MA shall be defined in Schedule A of this Agreement. Company reserves the right to adjust or \n",
       "modify the Territory upon renewal of this Agreement or from time to time by mutual agreement of the parties.\n"
      ]
     },
     "metadata": {},
     "output_type": "display_data"
    },
    {
     "name": "stdout",
     "output_type": "stream",
     "text": [
      "--####-- Chunk: 27 -####--\n"
     ]
    },
    {
     "data": {
      "text/html": [
       "<pre style=\"white-space:pre;overflow-x:auto;line-height:normal;font-family:Menlo,'DejaVu Sans Mono',consolas,'Courier New',monospace\"><span style=\"color: #008080; text-decoration-color: #008080; font-weight: bold\">7</span>.\n",
       "Payment and Deliveries.\n",
       "</pre>\n"
      ],
      "text/plain": [
       "\u001b[1;36m7\u001b[0m.\n",
       "Payment and Deliveries.\n"
      ]
     },
     "metadata": {},
     "output_type": "display_data"
    },
    {
     "name": "stdout",
     "output_type": "stream",
     "text": [
      "--####-- Chunk: 28 -####--\n"
     ]
    },
    {
     "data": {
      "text/html": [
       "<pre style=\"white-space:pre;overflow-x:auto;line-height:normal;font-family:Menlo,'DejaVu Sans Mono',consolas,'Courier New',monospace\"><span style=\"color: #008080; text-decoration-color: #008080; font-weight: bold\">7.1</span>\n",
       "Payment Terms. When fees are not collected directly from the corporate user, MA agrees to pay Company, in the \n",
       "manner and at the time specified below, the <span style=\"color: #800080; text-decoration-color: #800080; font-weight: bold\">fee</span><span style=\"font-weight: bold\">(</span>s<span style=\"font-weight: bold\">)</span> on Companys current price list in effect at the time an order is\n",
       "received by Company as set forth in Schedule A.\n",
       "</pre>\n"
      ],
      "text/plain": [
       "\u001b[1;36m7.1\u001b[0m\n",
       "Payment Terms. When fees are not collected directly from the corporate user, MA agrees to pay Company, in the \n",
       "manner and at the time specified below, the \u001b[1;35mfee\u001b[0m\u001b[1m(\u001b[0ms\u001b[1m)\u001b[0m on Companys current price list in effect at the time an order is\n",
       "received by Company as set forth in Schedule A.\n"
      ]
     },
     "metadata": {},
     "output_type": "display_data"
    },
    {
     "name": "stdout",
     "output_type": "stream",
     "text": [
      "--####-- Chunk: 29 -####--\n"
     ]
    },
    {
     "data": {
      "text/html": [
       "<pre style=\"white-space:pre;overflow-x:auto;line-height:normal;font-family:Menlo,'DejaVu Sans Mono',consolas,'Courier New',monospace\"><span style=\"color: #008080; text-decoration-color: #008080; font-weight: bold\">7.2</span>\n",
       "Currency. All monies due Company shall be remitted in United States dollars. Amounts due to Company are to be \n",
       "calculated based upon the information contained in Schedule A of this agreement.\n",
       "</pre>\n"
      ],
      "text/plain": [
       "\u001b[1;36m7.2\u001b[0m\n",
       "Currency. All monies due Company shall be remitted in United States dollars. Amounts due to Company are to be \n",
       "calculated based upon the information contained in Schedule A of this agreement.\n"
      ]
     },
     "metadata": {},
     "output_type": "display_data"
    },
    {
     "name": "stdout",
     "output_type": "stream",
     "text": [
      "--####-- Chunk: 30 -####--\n"
     ]
    },
    {
     "data": {
      "text/html": [
       "<pre style=\"white-space:pre;overflow-x:auto;line-height:normal;font-family:Menlo,'DejaVu Sans Mono',consolas,'Courier New',monospace\"><span style=\"color: #008080; text-decoration-color: #008080; font-weight: bold\">7.3</span>\n",
       "Required Documents. MA shall make payment for all Technology according to the terms in Schedule A of this \n",
       "Agreement, and provide upon resale of any part of the Technology, two <span style=\"font-weight: bold\">(</span><span style=\"color: #008080; text-decoration-color: #008080; font-weight: bold\">2</span><span style=\"font-weight: bold\">)</span> signed copies of the Company License \n",
       "Agreement/Client Registration Card between Company and Client.\n",
       "</pre>\n"
      ],
      "text/plain": [
       "\u001b[1;36m7.3\u001b[0m\n",
       "Required Documents. MA shall make payment for all Technology according to the terms in Schedule A of this \n",
       "Agreement, and provide upon resale of any part of the Technology, two \u001b[1m(\u001b[0m\u001b[1;36m2\u001b[0m\u001b[1m)\u001b[0m signed copies of the Company License \n",
       "Agreement/Client Registration Card between Company and Client.\n"
      ]
     },
     "metadata": {},
     "output_type": "display_data"
    },
    {
     "name": "stdout",
     "output_type": "stream",
     "text": [
      "--####-- Chunk: 31 -####--\n"
     ]
    },
    {
     "data": {
      "text/html": [
       "<pre style=\"white-space:pre;overflow-x:auto;line-height:normal;font-family:Menlo,'DejaVu Sans Mono',consolas,'Courier New',monospace\"><span style=\"color: #008080; text-decoration-color: #008080; font-weight: bold\">7.4</span>\n",
       "Payment for Services, Training and Support. Services, training and support, when applicable and provided by \n",
       "Company, shall be paid for by MA according to agreed upon terms, and a monthly billing report will be created for \n",
       "MA by Company to show utilization of time and charges. A LATE PAYMENT CHARGE of one and one-half percent <span style=\"font-weight: bold\">(</span><span style=\"color: #008080; text-decoration-color: #008080; font-weight: bold\">1</span> %<span style=\"font-weight: bold\">)</span> or \n",
       "the maximum rate permitted by applicable law, whichever is less, of the outstanding balance due to Company per \n",
       "month will be imposed on all overdue accounts.\n",
       "Shipment and Delivery. Any materials shall be shipped FOB Companys place of business as set forth in Schedule A, \n",
       "and MA shall be responsible for any excise, sales and other taxes which may be levied on the license and shipment \n",
       "of such materials.\n",
       "</pre>\n"
      ],
      "text/plain": [
       "\u001b[1;36m7.4\u001b[0m\n",
       "Payment for Services, Training and Support. Services, training and support, when applicable and provided by \n",
       "Company, shall be paid for by MA according to agreed upon terms, and a monthly billing report will be created for \n",
       "MA by Company to show utilization of time and charges. A LATE PAYMENT CHARGE of one and one-half percent \u001b[1m(\u001b[0m\u001b[1;36m1\u001b[0m %\u001b[1m)\u001b[0m or \n",
       "the maximum rate permitted by applicable law, whichever is less, of the outstanding balance due to Company per \n",
       "month will be imposed on all overdue accounts.\n",
       "Shipment and Delivery. Any materials shall be shipped FOB Companys place of business as set forth in Schedule A, \n",
       "and MA shall be responsible for any excise, sales and other taxes which may be levied on the license and shipment \n",
       "of such materials.\n"
      ]
     },
     "metadata": {},
     "output_type": "display_data"
    },
    {
     "name": "stdout",
     "output_type": "stream",
     "text": [
      "--####-- Chunk: 32 -####--\n"
     ]
    },
    {
     "data": {
      "text/html": [
       "<pre style=\"white-space:pre;overflow-x:auto;line-height:normal;font-family:Menlo,'DejaVu Sans Mono',consolas,'Courier New',monospace\"><span style=\"color: #008080; text-decoration-color: #008080; font-weight: bold\">7.5</span>\n",
       "<span style=\"color: #008080; text-decoration-color: #008080; font-weight: bold\">7.6</span>\n",
       "Delays. In the event of any cause beyond the control of Company, Company shall not be liable for any delay in \n",
       "shipment or non-delivery of the Technology covered under this Agreement beyond any amounts received with an order.\n",
       "</pre>\n"
      ],
      "text/plain": [
       "\u001b[1;36m7.5\u001b[0m\n",
       "\u001b[1;36m7.6\u001b[0m\n",
       "Delays. In the event of any cause beyond the control of Company, Company shall not be liable for any delay in \n",
       "shipment or non-delivery of the Technology covered under this Agreement beyond any amounts received with an order.\n"
      ]
     },
     "metadata": {},
     "output_type": "display_data"
    },
    {
     "name": "stdout",
     "output_type": "stream",
     "text": [
      "--####-- Chunk: 33 -####--\n"
     ]
    },
    {
     "data": {
      "text/html": [
       "<pre style=\"white-space:pre;overflow-x:auto;line-height:normal;font-family:Menlo,'DejaVu Sans Mono',consolas,'Courier New',monospace\"><span style=\"color: #008080; text-decoration-color: #008080; font-weight: bold\">8</span>.\n",
       "Modifications and Version Upgrades.\n",
       "</pre>\n"
      ],
      "text/plain": [
       "\u001b[1;36m8\u001b[0m.\n",
       "Modifications and Version Upgrades.\n"
      ]
     },
     "metadata": {},
     "output_type": "display_data"
    },
    {
     "name": "stdout",
     "output_type": "stream",
     "text": [
      "--####-- Chunk: 34 -####--\n"
     ]
    },
    {
     "data": {
      "text/html": [
       "<pre style=\"white-space:pre;overflow-x:auto;line-height:normal;font-family:Menlo,'DejaVu Sans Mono',consolas,'Courier New',monospace\"><span style=\"color: #008080; text-decoration-color: #008080; font-weight: bold\">8.1</span>\n",
       "Company shall supply MA access to all major published modifications or upgrades to the Technology, which add \n",
       "enhancements to or correct known errors in the Technology.\n",
       "</pre>\n"
      ],
      "text/plain": [
       "\u001b[1;36m8.1\u001b[0m\n",
       "Company shall supply MA access to all major published modifications or upgrades to the Technology, which add \n",
       "enhancements to or correct known errors in the Technology.\n"
      ]
     },
     "metadata": {},
     "output_type": "display_data"
    },
    {
     "name": "stdout",
     "output_type": "stream",
     "text": [
      "--####-- Chunk: 35 -####--\n"
     ]
    },
    {
     "data": {
      "text/html": [
       "<pre style=\"white-space:pre;overflow-x:auto;line-height:normal;font-family:Menlo,'DejaVu Sans Mono',consolas,'Courier New',monospace\"><span style=\"color: #008080; text-decoration-color: #008080; font-weight: bold\">8.2</span>\n",
       "Company shall provide Technology access to MA for each licensed customer so long as MA is not in default with any \n",
       "terms of this Agreement.\n",
       "<span style=\"color: #008080; text-decoration-color: #008080; font-weight: bold\">6</span>\n",
       "</pre>\n"
      ],
      "text/plain": [
       "\u001b[1;36m8.2\u001b[0m\n",
       "Company shall provide Technology access to MA for each licensed customer so long as MA is not in default with any \n",
       "terms of this Agreement.\n",
       "\u001b[1;36m6\u001b[0m\n"
      ]
     },
     "metadata": {},
     "output_type": "display_data"
    },
    {
     "name": "stdout",
     "output_type": "stream",
     "text": [
      "--####-- Chunk: 36 -####--\n"
     ]
    },
    {
     "data": {
      "text/html": [
       "<pre style=\"white-space:pre;overflow-x:auto;line-height:normal;font-family:Menlo,'DejaVu Sans Mono',consolas,'Courier New',monospace\"><span style=\"color: #008080; text-decoration-color: #008080; font-weight: bold\">8.3</span>\n",
       "MA shall notify Company in writing of any errors found by it in the Technology within thirty <span style=\"font-weight: bold\">(</span><span style=\"color: #008080; text-decoration-color: #008080; font-weight: bold\">30</span><span style=\"font-weight: bold\">)</span> days of such \n",
       "discovery.\n",
       "<span style=\"color: #008080; text-decoration-color: #008080; font-weight: bold\">8.4</span>\n",
       "Company will undertake all reasonable efforts to provide technical assistance to MA under this Agreement when MA is\n",
       "unable to resolve certain technical issues and to rectify or provide solutions to problems where the Technology \n",
       "does not function as described in the Technology documentation, but Company does not guarantee that the problems \n",
       "will be solved or that any item will be error-free. This product support commitment is only applicable to Companys \n",
       "Technology running under the certified environments specified in the release notes of the end user licensing \n",
       "agreement for that Technology or Package. Company may from time to time, however, discontinue Technology or \n",
       "versions and stop supporting Technology or versions one year after discontinuance, or otherwise discontinue any \n",
       "support service. Company is not liable for incidental, special or consequential damages for any reason <span style=\"font-weight: bold\">(</span>including \n",
       "loss of data or other business or property damage<span style=\"font-weight: bold\">)</span>, even if foreseeable or if MA or Customer has advised of such a \n",
       "claim. Company's liability shall not exceed the fees that MA has paid under this Agreement. MA agrees that the \n",
       "pricing for the services would be substantially higher but for these limitations.\n",
       "</pre>\n"
      ],
      "text/plain": [
       "\u001b[1;36m8.3\u001b[0m\n",
       "MA shall notify Company in writing of any errors found by it in the Technology within thirty \u001b[1m(\u001b[0m\u001b[1;36m30\u001b[0m\u001b[1m)\u001b[0m days of such \n",
       "discovery.\n",
       "\u001b[1;36m8.4\u001b[0m\n",
       "Company will undertake all reasonable efforts to provide technical assistance to MA under this Agreement when MA is\n",
       "unable to resolve certain technical issues and to rectify or provide solutions to problems where the Technology \n",
       "does not function as described in the Technology documentation, but Company does not guarantee that the problems \n",
       "will be solved or that any item will be error-free. This product support commitment is only applicable to Companys \n",
       "Technology running under the certified environments specified in the release notes of the end user licensing \n",
       "agreement for that Technology or Package. Company may from time to time, however, discontinue Technology or \n",
       "versions and stop supporting Technology or versions one year after discontinuance, or otherwise discontinue any \n",
       "support service. Company is not liable for incidental, special or consequential damages for any reason \u001b[1m(\u001b[0mincluding \n",
       "loss of data or other business or property damage\u001b[1m)\u001b[0m, even if foreseeable or if MA or Customer has advised of such a \n",
       "claim. Company's liability shall not exceed the fees that MA has paid under this Agreement. MA agrees that the \n",
       "pricing for the services would be substantially higher but for these limitations.\n"
      ]
     },
     "metadata": {},
     "output_type": "display_data"
    },
    {
     "name": "stdout",
     "output_type": "stream",
     "text": [
      "--####-- Chunk: 37 -####--\n"
     ]
    },
    {
     "data": {
      "text/html": [
       "<pre style=\"white-space:pre;overflow-x:auto;line-height:normal;font-family:Menlo,'DejaVu Sans Mono',consolas,'Courier New',monospace\"><span style=\"color: #008080; text-decoration-color: #008080; font-weight: bold\">9</span>.\n",
       "Trademarks and Service Marks.\n",
       "Any tradenames, trademarks or service marks, which Company may obtain with regard to the Technology, are the sole \n",
       "property of Company and/or its Affiliates. Company hereby grants MA, during the term of this Agreement, the right \n",
       "to use Company and/or Company trade names, trademarks or service marks on Technology or in advertising or promotion\n",
       "relating directly to these products. Any use of such tradenames, trademarks or service marks must reference that \n",
       "these tradenames, trademarks or service marks are proprietary to Company and/or its Affiliates.\n",
       "</pre>\n"
      ],
      "text/plain": [
       "\u001b[1;36m9\u001b[0m.\n",
       "Trademarks and Service Marks.\n",
       "Any tradenames, trademarks or service marks, which Company may obtain with regard to the Technology, are the sole \n",
       "property of Company and/or its Affiliates. Company hereby grants MA, during the term of this Agreement, the right \n",
       "to use Company and/or Company trade names, trademarks or service marks on Technology or in advertising or promotion\n",
       "relating directly to these products. Any use of such tradenames, trademarks or service marks must reference that \n",
       "these tradenames, trademarks or service marks are proprietary to Company and/or its Affiliates.\n"
      ]
     },
     "metadata": {},
     "output_type": "display_data"
    },
    {
     "name": "stdout",
     "output_type": "stream",
     "text": [
      "--####-- Chunk: 38 -####--\n"
     ]
    },
    {
     "data": {
      "text/html": [
       "<pre style=\"white-space:pre;overflow-x:auto;line-height:normal;font-family:Menlo,'DejaVu Sans Mono',consolas,'Courier New',monospace\"><span style=\"color: #008080; text-decoration-color: #008080; font-weight: bold\">10</span>.\n",
       "Title to the Technology.\n",
       "</pre>\n"
      ],
      "text/plain": [
       "\u001b[1;36m10\u001b[0m.\n",
       "Title to the Technology.\n"
      ]
     },
     "metadata": {},
     "output_type": "display_data"
    },
    {
     "name": "stdout",
     "output_type": "stream",
     "text": [
      "--####-- Chunk: 39 -####--\n"
     ]
    },
    {
     "data": {
      "text/html": [
       "<pre style=\"white-space:pre;overflow-x:auto;line-height:normal;font-family:Menlo,'DejaVu Sans Mono',consolas,'Courier New',monospace\">MA acknowledges that MA and its Clients receive no title to the Technology contained on the Technology. Title to \n",
       "the Technology and all copyrights in Technology shall remain with Company and/or its Affiliates.\n",
       "Company agrees to defend or, at its option, settle any claim or action against MA to the extent arising from a \n",
       "third party claim that a permitted use of the Technology by the end users infringes any U.S. patent or copyright, \n",
       "provided Company has control of such defense or settlement negotiations and MA gives Company prompt notice of any \n",
       "such claim and provides reasonable assistance in its defense. In the event of such a claim of infringement, \n",
       "Company, at its option, may provide MA with substitute Technology reasonably satisfactory to MA to replace those \n",
       "affected Technologies then in MA's inventory. Company will not be liable under this Section if the infringement \n",
       "arises out of MA's activities after Company has notified MA that Company believes in good faith that MA's \n",
       "activities will result in such infringement. The foregoing states the entire liability of Company with respect to \n",
       "infringement of intellectual property rights.\n",
       "<span style=\"color: #008080; text-decoration-color: #008080; font-weight: bold\">7</span>\n",
       "</pre>\n"
      ],
      "text/plain": [
       "MA acknowledges that MA and its Clients receive no title to the Technology contained on the Technology. Title to \n",
       "the Technology and all copyrights in Technology shall remain with Company and/or its Affiliates.\n",
       "Company agrees to defend or, at its option, settle any claim or action against MA to the extent arising from a \n",
       "third party claim that a permitted use of the Technology by the end users infringes any U.S. patent or copyright, \n",
       "provided Company has control of such defense or settlement negotiations and MA gives Company prompt notice of any \n",
       "such claim and provides reasonable assistance in its defense. In the event of such a claim of infringement, \n",
       "Company, at its option, may provide MA with substitute Technology reasonably satisfactory to MA to replace those \n",
       "affected Technologies then in MA's inventory. Company will not be liable under this Section if the infringement \n",
       "arises out of MA's activities after Company has notified MA that Company believes in good faith that MA's \n",
       "activities will result in such infringement. The foregoing states the entire liability of Company with respect to \n",
       "infringement of intellectual property rights.\n",
       "\u001b[1;36m7\u001b[0m\n"
      ]
     },
     "metadata": {},
     "output_type": "display_data"
    },
    {
     "name": "stdout",
     "output_type": "stream",
     "text": [
      "--####-- Chunk: 40 -####--\n"
     ]
    },
    {
     "data": {
      "text/html": [
       "<pre style=\"white-space:pre;overflow-x:auto;line-height:normal;font-family:Menlo,'DejaVu Sans Mono',consolas,'Courier New',monospace\"><span style=\"color: #008080; text-decoration-color: #008080; font-weight: bold\">11</span>.\n",
       "Distribution by MA.\n",
       "</pre>\n"
      ],
      "text/plain": [
       "\u001b[1;36m11\u001b[0m.\n",
       "Distribution by MA.\n"
      ]
     },
     "metadata": {},
     "output_type": "display_data"
    },
    {
     "name": "stdout",
     "output_type": "stream",
     "text": [
      "--####-- Chunk: 41 -####--\n"
     ]
    },
    {
     "data": {
      "text/html": [
       "<pre style=\"white-space:pre;overflow-x:auto;line-height:normal;font-family:Menlo,'DejaVu Sans Mono',consolas,'Courier New',monospace\">MA agrees to distribute Technology only through the Company License Agreement/Client Registration Card between the \n",
       "Client and Company. MA acknowledges that the Company License Agreement/ Client Registration Card specifies the \n",
       "terms under which a Client receives, holds and uses the Package or Service.\n",
       "<span style=\"color: #008080; text-decoration-color: #008080; font-weight: bold\">12</span>.\n",
       "Trade Secrets and Source Code.\n",
       "</pre>\n"
      ],
      "text/plain": [
       "MA agrees to distribute Technology only through the Company License Agreement/Client Registration Card between the \n",
       "Client and Company. MA acknowledges that the Company License Agreement/ Client Registration Card specifies the \n",
       "terms under which a Client receives, holds and uses the Package or Service.\n",
       "\u001b[1;36m12\u001b[0m.\n",
       "Trade Secrets and Source Code.\n"
      ]
     },
     "metadata": {},
     "output_type": "display_data"
    },
    {
     "name": "stdout",
     "output_type": "stream",
     "text": [
      "--####-- Chunk: 42 -####--\n"
     ]
    },
    {
     "data": {
      "text/html": [
       "<pre style=\"white-space:pre;overflow-x:auto;line-height:normal;font-family:Menlo,'DejaVu Sans Mono',consolas,'Courier New',monospace\"><span style=\"color: #008080; text-decoration-color: #008080; font-weight: bold\">12.1</span>\n",
       "MA recognizes that the Technology in source form <span style=\"font-weight: bold\">(</span>code or listing<span style=\"font-weight: bold\">)</span> is the exclusive property of Company and/or its \n",
       "Affiliates and is proprietary to and the trade secret of Company and/or its Affiliates. MA agrees that it shall \n",
       "not, by itself or in association with any other party, reproduce, duplicate, copy, decompile, disassemble or \n",
       "reverse engineer the Technology in source form <span style=\"font-weight: bold\">(</span>code or listing<span style=\"font-weight: bold\">)</span> in any media.\n",
       "<span style=\"color: #008080; text-decoration-color: #008080; font-weight: bold\">12.2</span>\n",
       "</pre>\n"
      ],
      "text/plain": [
       "\u001b[1;36m12.1\u001b[0m\n",
       "MA recognizes that the Technology in source form \u001b[1m(\u001b[0mcode or listing\u001b[1m)\u001b[0m is the exclusive property of Company and/or its \n",
       "Affiliates and is proprietary to and the trade secret of Company and/or its Affiliates. MA agrees that it shall \n",
       "not, by itself or in association with any other party, reproduce, duplicate, copy, decompile, disassemble or \n",
       "reverse engineer the Technology in source form \u001b[1m(\u001b[0mcode or listing\u001b[1m)\u001b[0m in any media.\n",
       "\u001b[1;36m12.2\u001b[0m\n"
      ]
     },
     "metadata": {},
     "output_type": "display_data"
    },
    {
     "name": "stdout",
     "output_type": "stream",
     "text": [
      "--####-- Chunk: 43 -####--\n"
     ]
    },
    {
     "data": {
      "text/html": [
       "<pre style=\"white-space:pre;overflow-x:auto;line-height:normal;font-family:Menlo,'DejaVu Sans Mono',consolas,'Courier New',monospace\">MA shall further hold in confidence and shall not disclose any information, algorithms, methods, designs, \n",
       "specifications, and/or know-how in any way relating to the Technology in source form <span style=\"font-weight: bold\">(</span>code or listing<span style=\"font-weight: bold\">)</span> to any other\n",
       "person, firm or corporation whether during the term of this Agreement or after such Agreement has been terminated.\n",
       "<span style=\"color: #008080; text-decoration-color: #008080; font-weight: bold\">12.3</span>\n",
       "MA shall not have the right to modify the source code to make adaptations to the Technology in conjunction with the\n",
       "sale of the Technology without the written consent of Company. In the event of modified source code, only the \n",
       "modified portion of the code becomes the property of MA, and MA shall treat the modified source code with the same \n",
       "care as with Company source code.\n",
       "<span style=\"color: #008080; text-decoration-color: #008080; font-weight: bold\">13</span>.\n",
       "Price Changes and Notification.\n",
       "Company reserves the right to change its process and/or fees, from time to time, in its sole and absolute \n",
       "discretion. In the event of a price and/or fee change for Technology, Company shall notify MA in writing ninety \n",
       "<span style=\"font-weight: bold\">(</span><span style=\"color: #008080; text-decoration-color: #008080; font-weight: bold\">90</span><span style=\"font-weight: bold\">)</span> days prior to the effective date of any such change. All other prices and/or fees may be adjusted without \n",
       "prior notice to MA.\n",
       "</pre>\n"
      ],
      "text/plain": [
       "MA shall further hold in confidence and shall not disclose any information, algorithms, methods, designs, \n",
       "specifications, and/or know-how in any way relating to the Technology in source form \u001b[1m(\u001b[0mcode or listing\u001b[1m)\u001b[0m to any other\n",
       "person, firm or corporation whether during the term of this Agreement or after such Agreement has been terminated.\n",
       "\u001b[1;36m12.3\u001b[0m\n",
       "MA shall not have the right to modify the source code to make adaptations to the Technology in conjunction with the\n",
       "sale of the Technology without the written consent of Company. In the event of modified source code, only the \n",
       "modified portion of the code becomes the property of MA, and MA shall treat the modified source code with the same \n",
       "care as with Company source code.\n",
       "\u001b[1;36m13\u001b[0m.\n",
       "Price Changes and Notification.\n",
       "Company reserves the right to change its process and/or fees, from time to time, in its sole and absolute \n",
       "discretion. In the event of a price and/or fee change for Technology, Company shall notify MA in writing ninety \n",
       "\u001b[1m(\u001b[0m\u001b[1;36m90\u001b[0m\u001b[1m)\u001b[0m days prior to the effective date of any such change. All other prices and/or fees may be adjusted without \n",
       "prior notice to MA.\n"
      ]
     },
     "metadata": {},
     "output_type": "display_data"
    },
    {
     "name": "stdout",
     "output_type": "stream",
     "text": [
      "--####-- Chunk: 44 -####--\n"
     ]
    },
    {
     "data": {
      "text/html": [
       "<pre style=\"white-space:pre;overflow-x:auto;line-height:normal;font-family:Menlo,'DejaVu Sans Mono',consolas,'Courier New',monospace\"><span style=\"color: #008080; text-decoration-color: #008080; font-weight: bold\">14</span>.\n",
       "Relationship of the Parties.\n",
       "</pre>\n"
      ],
      "text/plain": [
       "\u001b[1;36m14\u001b[0m.\n",
       "Relationship of the Parties.\n"
      ]
     },
     "metadata": {},
     "output_type": "display_data"
    },
    {
     "name": "stdout",
     "output_type": "stream",
     "text": [
      "--####-- Chunk: 45 -####--\n"
     ]
    },
    {
     "data": {
      "text/html": [
       "<pre style=\"white-space:pre;overflow-x:auto;line-height:normal;font-family:Menlo,'DejaVu Sans Mono',consolas,'Courier New',monospace\">MA shall be deemed to be an independent contractor in its relationship with Company. MA shall not hold itself out \n",
       "as an employee or agent of Company other than for the limited purposes of marketing the Technology. No debts or \n",
       "obligations shall be incurred by either party in the other partys name, including execution of the Client \n",
       "Registration Agreements. MA shall have the right to perform certain services for its Clients, such as training, \n",
       "installation and non-contract support and bill its Clients directly for such services. MA specifically understand \n",
       "and agrees that it shall not be treated as an employee with respect to such services as are performed for any \n",
       "applicable tax purposes; and it is further agreed that this Agreement shall not bring MA under the provisions of \n",
       "any local, state, provincial, federal, national, and international regulation wherein coverage thereunder is based \n",
       "upon the relationship of employer and employee.\n",
       "<span style=\"color: #008080; text-decoration-color: #008080; font-weight: bold\">8</span>\n",
       "</pre>\n"
      ],
      "text/plain": [
       "MA shall be deemed to be an independent contractor in its relationship with Company. MA shall not hold itself out \n",
       "as an employee or agent of Company other than for the limited purposes of marketing the Technology. No debts or \n",
       "obligations shall be incurred by either party in the other partys name, including execution of the Client \n",
       "Registration Agreements. MA shall have the right to perform certain services for its Clients, such as training, \n",
       "installation and non-contract support and bill its Clients directly for such services. MA specifically understand \n",
       "and agrees that it shall not be treated as an employee with respect to such services as are performed for any \n",
       "applicable tax purposes; and it is further agreed that this Agreement shall not bring MA under the provisions of \n",
       "any local, state, provincial, federal, national, and international regulation wherein coverage thereunder is based \n",
       "upon the relationship of employer and employee.\n",
       "\u001b[1;36m8\u001b[0m\n"
      ]
     },
     "metadata": {},
     "output_type": "display_data"
    },
    {
     "name": "stdout",
     "output_type": "stream",
     "text": [
      "--####-- Chunk: 46 -####--\n"
     ]
    },
    {
     "data": {
      "text/html": [
       "<pre style=\"white-space:pre;overflow-x:auto;line-height:normal;font-family:Menlo,'DejaVu Sans Mono',consolas,'Courier New',monospace\"><span style=\"color: #008080; text-decoration-color: #008080; font-weight: bold\">15</span>.\n",
       "Unauthorized Use.\n",
       "</pre>\n"
      ],
      "text/plain": [
       "\u001b[1;36m15\u001b[0m.\n",
       "Unauthorized Use.\n"
      ]
     },
     "metadata": {},
     "output_type": "display_data"
    },
    {
     "name": "stdout",
     "output_type": "stream",
     "text": [
      "--####-- Chunk: 47 -####--\n"
     ]
    },
    {
     "data": {
      "text/html": [
       "<pre style=\"white-space:pre;overflow-x:auto;line-height:normal;font-family:Menlo,'DejaVu Sans Mono',consolas,'Courier New',monospace\">MA shall notify Company promptly of any misuse of unauthorized use of the Technology, which comes to the attention \n",
       "of MA, and shall notify its Clients upon the request of Company when Company believes such Technology are being \n",
       "misused. MA shall cooperate, at Companys reasonable expense, with Company in any action, including any legal \n",
       "action, which Company may feel is necessary in order to protect the Technology.\n",
       "<span style=\"color: #008080; text-decoration-color: #008080; font-weight: bold\">16</span>.\n",
       "Warranties by Company.\n",
       "</pre>\n"
      ],
      "text/plain": [
       "MA shall notify Company promptly of any misuse of unauthorized use of the Technology, which comes to the attention \n",
       "of MA, and shall notify its Clients upon the request of Company when Company believes such Technology are being \n",
       "misused. MA shall cooperate, at Companys reasonable expense, with Company in any action, including any legal \n",
       "action, which Company may feel is necessary in order to protect the Technology.\n",
       "\u001b[1;36m16\u001b[0m.\n",
       "Warranties by Company.\n"
      ]
     },
     "metadata": {},
     "output_type": "display_data"
    },
    {
     "name": "stdout",
     "output_type": "stream",
     "text": [
      "--####-- Chunk: 48 -####--\n"
     ]
    },
    {
     "data": {
      "text/html": [
       "<pre style=\"white-space:pre;overflow-x:auto;line-height:normal;font-family:Menlo,'DejaVu Sans Mono',consolas,'Courier New',monospace\"><span style=\"color: #008080; text-decoration-color: #008080; font-weight: bold\">16.1</span>\n",
       "EXCEPT AS EXCLUSIVELY SET FORTH IN THIS PARAGRAPH, COMPANY DOES NOT MAKE ANY EXPRESS OR IMPLIED WARRANTIES, \n",
       "INCLUDING BUT NOT RESTRICTED TO THE IMPLIED WARRANTIES OF MERCHANTABILITY AND FITNESS FOR A PARTICULAR PURPOSE, \n",
       "WHICH WARRANTIES ARE HEREBY DISCLAIMED.\n",
       "</pre>\n"
      ],
      "text/plain": [
       "\u001b[1;36m16.1\u001b[0m\n",
       "EXCEPT AS EXCLUSIVELY SET FORTH IN THIS PARAGRAPH, COMPANY DOES NOT MAKE ANY EXPRESS OR IMPLIED WARRANTIES, \n",
       "INCLUDING BUT NOT RESTRICTED TO THE IMPLIED WARRANTIES OF MERCHANTABILITY AND FITNESS FOR A PARTICULAR PURPOSE, \n",
       "WHICH WARRANTIES ARE HEREBY DISCLAIMED.\n"
      ]
     },
     "metadata": {},
     "output_type": "display_data"
    },
    {
     "name": "stdout",
     "output_type": "stream",
     "text": [
      "--####-- Chunk: 49 -####--\n"
     ]
    },
    {
     "data": {
      "text/html": [
       "<pre style=\"white-space:pre;overflow-x:auto;line-height:normal;font-family:Menlo,'DejaVu Sans Mono',consolas,'Courier New',monospace\">COMPANYS SOLE AND EXCLUSIVE LIABILITY FOR THE WARRANTY PROVIDED IN SUBPARAGRAH <span style=\"font-weight: bold\">(</span>A<span style=\"font-weight: bold\">)</span> HEREOF SHALL BE TO CORRECT THE \n",
       "TECHNOLOGY TO OPERATE IN SUBSTANTIAL ACCORDANCE WITH ITS THEN CURRENT SPECIFICATIONS OR REPLACE, AT ITS OPTION, THE\n",
       "TECHNOLOGY NOT IN COMPLIANCE WITH COMPANYS AND COMPANY PUBLISHED SPECIFICATIONS REGARDING THE TECHNOLOGY; PROVIDED,\n",
       "ANY CLAIM FOR BREACH OF WARRANTY UNDER SUBPARAGRAPH <span style=\"font-weight: bold\">(</span>A<span style=\"font-weight: bold\">)</span> HEREOF MUST BE MADE IN WRITING WITHIN <span style=\"font-weight: bold\">(</span><span style=\"color: #008080; text-decoration-color: #008080; font-weight: bold\">90</span><span style=\"font-weight: bold\">)</span> DAYS FROM DATE \n",
       "OF SHIPMENT.\n",
       "<span style=\"color: #008080; text-decoration-color: #008080; font-weight: bold\">16.2</span>\n",
       "</pre>\n"
      ],
      "text/plain": [
       "COMPANYS SOLE AND EXCLUSIVE LIABILITY FOR THE WARRANTY PROVIDED IN SUBPARAGRAH \u001b[1m(\u001b[0mA\u001b[1m)\u001b[0m HEREOF SHALL BE TO CORRECT THE \n",
       "TECHNOLOGY TO OPERATE IN SUBSTANTIAL ACCORDANCE WITH ITS THEN CURRENT SPECIFICATIONS OR REPLACE, AT ITS OPTION, THE\n",
       "TECHNOLOGY NOT IN COMPLIANCE WITH COMPANYS AND COMPANY PUBLISHED SPECIFICATIONS REGARDING THE TECHNOLOGY; PROVIDED,\n",
       "ANY CLAIM FOR BREACH OF WARRANTY UNDER SUBPARAGRAPH \u001b[1m(\u001b[0mA\u001b[1m)\u001b[0m HEREOF MUST BE MADE IN WRITING WITHIN \u001b[1m(\u001b[0m\u001b[1;36m90\u001b[0m\u001b[1m)\u001b[0m DAYS FROM DATE \n",
       "OF SHIPMENT.\n",
       "\u001b[1;36m16.2\u001b[0m\n"
      ]
     },
     "metadata": {},
     "output_type": "display_data"
    },
    {
     "name": "stdout",
     "output_type": "stream",
     "text": [
      "--####-- Chunk: 50 -####--\n"
     ]
    },
    {
     "data": {
      "text/html": [
       "<pre style=\"white-space:pre;overflow-x:auto;line-height:normal;font-family:Menlo,'DejaVu Sans Mono',consolas,'Courier New',monospace\">IN NO EVENT SHALL COMPANY BE LIABLE TO MA, ITS CLIENTS, OR ANY THIRD PARTY FOR ANY TORT OR CONTRACT DAMAGES OR \n",
       "INDIRECT, SPECIAL, GENERAL, INCIDENTAL OR CONSEQUENTIAL DAMAGES, INCLUDING BUT NOT LIMITED TO, LOSS OF PROFITS OR \n",
       "ANTICIPATED PROFITS AND LOSS OF GOODWILL, ARISING IN CONNECTION WITH THE USE <span style=\"font-weight: bold\">(</span>OR INABILITY TO USE<span style=\"font-weight: bold\">)</span> OR D I S T R I B\n",
       "U T I O N O F T H E T E C H N O L O G Y F O R A N Y P U R P O S E WHATSOEVER.\n",
       "<span style=\"color: #008080; text-decoration-color: #008080; font-weight: bold\">16.3</span>\n",
       "<span style=\"color: #008080; text-decoration-color: #008080; font-weight: bold\">16.4</span>\n",
       "</pre>\n"
      ],
      "text/plain": [
       "IN NO EVENT SHALL COMPANY BE LIABLE TO MA, ITS CLIENTS, OR ANY THIRD PARTY FOR ANY TORT OR CONTRACT DAMAGES OR \n",
       "INDIRECT, SPECIAL, GENERAL, INCIDENTAL OR CONSEQUENTIAL DAMAGES, INCLUDING BUT NOT LIMITED TO, LOSS OF PROFITS OR \n",
       "ANTICIPATED PROFITS AND LOSS OF GOODWILL, ARISING IN CONNECTION WITH THE USE \u001b[1m(\u001b[0mOR INABILITY TO USE\u001b[1m)\u001b[0m OR D I S T R I B\n",
       "U T I O N O F T H E T E C H N O L O G Y F O R A N Y P U R P O S E WHATSOEVER.\n",
       "\u001b[1;36m16.3\u001b[0m\n",
       "\u001b[1;36m16.4\u001b[0m\n"
      ]
     },
     "metadata": {},
     "output_type": "display_data"
    },
    {
     "name": "stdout",
     "output_type": "stream",
     "text": [
      "--####-- Chunk: 51 -####--\n"
     ]
    },
    {
     "data": {
      "text/html": [
       "<pre style=\"white-space:pre;overflow-x:auto;line-height:normal;font-family:Menlo,'DejaVu Sans Mono',consolas,'Courier New',monospace\">SOME STATES AND/OR COUNTRIES DO NOT ALLOW THE EXCLUSION OF IMPLIED WARRANTIES, SO THE ABOVE EXCLUSION MAY NOT APPLY\n",
       "TO YOU. THIS WARRANTY GIVES YOU SPECIFIC LEGAL RIGHTS, AND YOU MAY HAVE OTHER RIGHTS WIHICH MAY VARY FROM STATE TO \n",
       "STATE OR COUNTRY TO COUNTRY.\n",
       "<span style=\"color: #008080; text-decoration-color: #008080; font-weight: bold\">16.5</span>\n",
       "SOME STATES AND/OR COUNTRIES DO NOT ALLOW THE EXCLUSION OR LIMITATION OF INCIDENTAL AND CONSEQUENTIAL DAMAGES, SO \n",
       "THE ABOVE LIMITATION MAY NOT APPLY TO YOU.\n",
       "<span style=\"color: #008080; text-decoration-color: #008080; font-weight: bold\">9</span>\n",
       "</pre>\n"
      ],
      "text/plain": [
       "SOME STATES AND/OR COUNTRIES DO NOT ALLOW THE EXCLUSION OF IMPLIED WARRANTIES, SO THE ABOVE EXCLUSION MAY NOT APPLY\n",
       "TO YOU. THIS WARRANTY GIVES YOU SPECIFIC LEGAL RIGHTS, AND YOU MAY HAVE OTHER RIGHTS WIHICH MAY VARY FROM STATE TO \n",
       "STATE OR COUNTRY TO COUNTRY.\n",
       "\u001b[1;36m16.5\u001b[0m\n",
       "SOME STATES AND/OR COUNTRIES DO NOT ALLOW THE EXCLUSION OR LIMITATION OF INCIDENTAL AND CONSEQUENTIAL DAMAGES, SO \n",
       "THE ABOVE LIMITATION MAY NOT APPLY TO YOU.\n",
       "\u001b[1;36m9\u001b[0m\n"
      ]
     },
     "metadata": {},
     "output_type": "display_data"
    },
    {
     "name": "stdout",
     "output_type": "stream",
     "text": [
      "--####-- Chunk: 52 -####--\n"
     ]
    },
    {
     "data": {
      "text/html": [
       "<pre style=\"white-space:pre;overflow-x:auto;line-height:normal;font-family:Menlo,'DejaVu Sans Mono',consolas,'Courier New',monospace\"><span style=\"color: #008080; text-decoration-color: #008080; font-weight: bold\">17</span>.\n",
       "Warranties by MA.\n",
       "</pre>\n"
      ],
      "text/plain": [
       "\u001b[1;36m17\u001b[0m.\n",
       "Warranties by MA.\n"
      ]
     },
     "metadata": {},
     "output_type": "display_data"
    },
    {
     "name": "stdout",
     "output_type": "stream",
     "text": [
      "--####-- Chunk: 53 -####--\n"
     ]
    },
    {
     "data": {
      "text/html": [
       "<pre style=\"white-space:pre;overflow-x:auto;line-height:normal;font-family:Menlo,'DejaVu Sans Mono',consolas,'Courier New',monospace\">MA agrees that any and all warranties made to Client shall be made only by MA. MA acknowledges and agrees that MA \n",
       "will make no representations to its Clients with respect to any warranty made by Company. MA hereby agrees to \n",
       "indemnify and hold Company harmless for any loss, damage, claim or action resulting from MAs failure to comply with\n",
       "any of MAs obligations under this Agreement. MA will be solely responsible for any claims, warranties or \n",
       "representations made by MA or MA's representatives or agents, which differ from the warranties, provided by Company\n",
       "in the applicable end user license <span style=\"color: #800080; text-decoration-color: #800080; font-weight: bold\">agreement</span><span style=\"font-weight: bold\">(</span>s<span style=\"font-weight: bold\">)</span>.\n",
       "<span style=\"color: #008080; text-decoration-color: #008080; font-weight: bold\">18</span>.\n",
       "Termination.\n",
       "</pre>\n"
      ],
      "text/plain": [
       "MA agrees that any and all warranties made to Client shall be made only by MA. MA acknowledges and agrees that MA \n",
       "will make no representations to its Clients with respect to any warranty made by Company. MA hereby agrees to \n",
       "indemnify and hold Company harmless for any loss, damage, claim or action resulting from MAs failure to comply with\n",
       "any of MAs obligations under this Agreement. MA will be solely responsible for any claims, warranties or \n",
       "representations made by MA or MA's representatives or agents, which differ from the warranties, provided by Company\n",
       "in the applicable end user license \u001b[1;35magreement\u001b[0m\u001b[1m(\u001b[0ms\u001b[1m)\u001b[0m.\n",
       "\u001b[1;36m18\u001b[0m.\n",
       "Termination.\n"
      ]
     },
     "metadata": {},
     "output_type": "display_data"
    },
    {
     "name": "stdout",
     "output_type": "stream",
     "text": [
      "--####-- Chunk: 54 -####--\n"
     ]
    },
    {
     "data": {
      "text/html": [
       "<pre style=\"white-space:pre;overflow-x:auto;line-height:normal;font-family:Menlo,'DejaVu Sans Mono',consolas,'Courier New',monospace\"><span style=\"color: #008080; text-decoration-color: #008080; font-weight: bold\">18.1</span>\n",
       "This Agreement may be terminated by either party at the expiration of its term or any renewal term upon thirty <span style=\"font-weight: bold\">(</span><span style=\"color: #008080; text-decoration-color: #008080; font-weight: bold\">30</span><span style=\"font-weight: bold\">)</span>\n",
       "days written notice to the other party. Company acknowledges that this Agreement shall not be terminated for MAs \n",
       "failure to follow an operating plan, standard procedure, training manual, or substantial equivalent published in \n",
       "Paragraph <span style=\"color: #008080; text-decoration-color: #008080; font-weight: bold\">3</span> <span style=\"font-weight: bold\">(</span>k<span style=\"font-weight: bold\">)</span> of this Agreement, except that Company does reserve the right to terminate this Agreement for MAs \n",
       "failure to follow required procedures relating to the processing of sales contracts, invoices and billing related \n",
       "to Technology sold under this Agreement.\n",
       "</pre>\n"
      ],
      "text/plain": [
       "\u001b[1;36m18.1\u001b[0m\n",
       "This Agreement may be terminated by either party at the expiration of its term or any renewal term upon thirty \u001b[1m(\u001b[0m\u001b[1;36m30\u001b[0m\u001b[1m)\u001b[0m\n",
       "days written notice to the other party. Company acknowledges that this Agreement shall not be terminated for MAs \n",
       "failure to follow an operating plan, standard procedure, training manual, or substantial equivalent published in \n",
       "Paragraph \u001b[1;36m3\u001b[0m \u001b[1m(\u001b[0mk\u001b[1m)\u001b[0m of this Agreement, except that Company does reserve the right to terminate this Agreement for MAs \n",
       "failure to follow required procedures relating to the processing of sales contracts, invoices and billing related \n",
       "to Technology sold under this Agreement.\n"
      ]
     },
     "metadata": {},
     "output_type": "display_data"
    },
    {
     "name": "stdout",
     "output_type": "stream",
     "text": [
      "--####-- Chunk: 55 -####--\n"
     ]
    },
    {
     "data": {
      "text/html": [
       "<pre style=\"white-space:pre;overflow-x:auto;line-height:normal;font-family:Menlo,'DejaVu Sans Mono',consolas,'Courier New',monospace\"><span style=\"color: #008080; text-decoration-color: #008080; font-weight: bold\">18.2</span>\n",
       "Either party may cancel this Agreement upon the occurrence of any of the\n",
       "following:\n",
       "<span style=\"font-weight: bold\">(</span>a<span style=\"font-weight: bold\">)</span>\n",
       "Material breach of any covenant, term, condition or other provisions of this Agreement, which breach is not \n",
       "remedied within ten <span style=\"font-weight: bold\">(</span><span style=\"color: #008080; text-decoration-color: #008080; font-weight: bold\">10</span><span style=\"font-weight: bold\">)</span> days after notice of such breach is received by the breaching party;\n",
       "<span style=\"font-weight: bold\">(</span>b<span style=\"font-weight: bold\">)</span>\n",
       "Bankruptcy, reorganization, arrangement or insolvency proceedings being instituted by or against a party;\n",
       "<span style=\"font-weight: bold\">(</span>c<span style=\"font-weight: bold\">)</span>\n",
       "An assignment by a party for the benefit of its creditors;\n",
       "<span style=\"font-weight: bold\">(</span>d<span style=\"font-weight: bold\">)</span>\n",
       "Consenting to the appointment of a trustee or receiver by a party, or a trustee or receiver being appointed for a \n",
       "party or for a substantial part of its assets.\n",
       "</pre>\n"
      ],
      "text/plain": [
       "\u001b[1;36m18.2\u001b[0m\n",
       "Either party may cancel this Agreement upon the occurrence of any of the\n",
       "following:\n",
       "\u001b[1m(\u001b[0ma\u001b[1m)\u001b[0m\n",
       "Material breach of any covenant, term, condition or other provisions of this Agreement, which breach is not \n",
       "remedied within ten \u001b[1m(\u001b[0m\u001b[1;36m10\u001b[0m\u001b[1m)\u001b[0m days after notice of such breach is received by the breaching party;\n",
       "\u001b[1m(\u001b[0mb\u001b[1m)\u001b[0m\n",
       "Bankruptcy, reorganization, arrangement or insolvency proceedings being instituted by or against a party;\n",
       "\u001b[1m(\u001b[0mc\u001b[1m)\u001b[0m\n",
       "An assignment by a party for the benefit of its creditors;\n",
       "\u001b[1m(\u001b[0md\u001b[1m)\u001b[0m\n",
       "Consenting to the appointment of a trustee or receiver by a party, or a trustee or receiver being appointed for a \n",
       "party or for a substantial part of its assets.\n"
      ]
     },
     "metadata": {},
     "output_type": "display_data"
    },
    {
     "name": "stdout",
     "output_type": "stream",
     "text": [
      "--####-- Chunk: 56 -####--\n"
     ]
    },
    {
     "data": {
      "text/html": [
       "<pre style=\"white-space:pre;overflow-x:auto;line-height:normal;font-family:Menlo,'DejaVu Sans Mono',consolas,'Courier New',monospace\"><span style=\"color: #008080; text-decoration-color: #008080; font-weight: bold\">18.3</span>\n",
       "Upon termination or cancellation of this Agreement for any reason:\n",
       "<span style=\"font-weight: bold\">(</span>a<span style=\"font-weight: bold\">)</span>\n",
       "All obligations of the non-breaching party, should cancellation be due to breach, shall immediately cease;\n",
       "<span style=\"font-weight: bold\">(</span>b<span style=\"font-weight: bold\">)</span>\n",
       "</pre>\n"
      ],
      "text/plain": [
       "\u001b[1;36m18.3\u001b[0m\n",
       "Upon termination or cancellation of this Agreement for any reason:\n",
       "\u001b[1m(\u001b[0ma\u001b[1m)\u001b[0m\n",
       "All obligations of the non-breaching party, should cancellation be due to breach, shall immediately cease;\n",
       "\u001b[1m(\u001b[0mb\u001b[1m)\u001b[0m\n"
      ]
     },
     "metadata": {},
     "output_type": "display_data"
    },
    {
     "name": "stdout",
     "output_type": "stream",
     "text": [
      "--####-- Chunk: 57 -####--\n"
     ]
    },
    {
     "data": {
      "text/html": [
       "<pre style=\"white-space:pre;overflow-x:auto;line-height:normal;font-family:Menlo,'DejaVu Sans Mono',consolas,'Courier New',monospace\">MA shall return any and all full and/or partial copies of material related to the Technology, including \n",
       "demonstrations of the Technology, in MAs possession or under its control to Company within ten <span style=\"font-weight: bold\">(</span><span style=\"color: #008080; text-decoration-color: #008080; font-weight: bold\">10</span><span style=\"font-weight: bold\">)</span> days following \n",
       "the termination or cancellation date of this Agreement;\n",
       "<span style=\"color: #008080; text-decoration-color: #008080; font-weight: bold\">10</span>\n",
       "<span style=\"font-weight: bold\">(</span>c<span style=\"font-weight: bold\">)</span>\n",
       "</pre>\n"
      ],
      "text/plain": [
       "MA shall return any and all full and/or partial copies of material related to the Technology, including \n",
       "demonstrations of the Technology, in MAs possession or under its control to Company within ten \u001b[1m(\u001b[0m\u001b[1;36m10\u001b[0m\u001b[1m)\u001b[0m days following \n",
       "the termination or cancellation date of this Agreement;\n",
       "\u001b[1;36m10\u001b[0m\n",
       "\u001b[1m(\u001b[0mc\u001b[1m)\u001b[0m\n"
      ]
     },
     "metadata": {},
     "output_type": "display_data"
    },
    {
     "name": "stdout",
     "output_type": "stream",
     "text": [
      "--####-- Chunk: 58 -####--\n"
     ]
    },
    {
     "data": {
      "text/html": [
       "<pre style=\"white-space:pre;overflow-x:auto;line-height:normal;font-family:Menlo,'DejaVu Sans Mono',consolas,'Courier New',monospace\">MA shall not continue to use or employ any part of the Technology as part of any product which MA shall convey, \n",
       "assign, lease, license or transfer to any third parties;\n",
       "<span style=\"font-weight: bold\">(</span>d<span style=\"font-weight: bold\">)</span>\n",
       "</pre>\n"
      ],
      "text/plain": [
       "MA shall not continue to use or employ any part of the Technology as part of any product which MA shall convey, \n",
       "assign, lease, license or transfer to any third parties;\n",
       "\u001b[1m(\u001b[0md\u001b[1m)\u001b[0m\n"
      ]
     },
     "metadata": {},
     "output_type": "display_data"
    },
    {
     "name": "stdout",
     "output_type": "stream",
     "text": [
      "--####-- Chunk: 59 -####--\n"
     ]
    },
    {
     "data": {
      "text/html": [
       "<pre style=\"white-space:pre;overflow-x:auto;line-height:normal;font-family:Menlo,'DejaVu Sans Mono',consolas,'Courier New',monospace\">MA shall immediately cease advertising, marketing, promoting and distributing the Technology and shall cease using \n",
       "the trade names, trademarks, service marks and any other proprietary right of Company;\n",
       "<span style=\"font-weight: bold\">(</span>e<span style=\"font-weight: bold\">)</span>\n",
       "Except as otherwise permitted in writing by Company, MA shall immediately cease selling Annual Technology \n",
       "Maintenance and providing application and technical support for the Technology to Clients;\n",
       "<span style=\"font-weight: bold\">(</span>f<span style=\"font-weight: bold\">)</span>\n",
       "All outstanding invoices shall immediately become due and payable; and\n",
       "<span style=\"font-weight: bold\">(</span>g<span style=\"font-weight: bold\">)</span>\n",
       "</pre>\n"
      ],
      "text/plain": [
       "MA shall immediately cease advertising, marketing, promoting and distributing the Technology and shall cease using \n",
       "the trade names, trademarks, service marks and any other proprietary right of Company;\n",
       "\u001b[1m(\u001b[0me\u001b[1m)\u001b[0m\n",
       "Except as otherwise permitted in writing by Company, MA shall immediately cease selling Annual Technology \n",
       "Maintenance and providing application and technical support for the Technology to Clients;\n",
       "\u001b[1m(\u001b[0mf\u001b[1m)\u001b[0m\n",
       "All outstanding invoices shall immediately become due and payable; and\n",
       "\u001b[1m(\u001b[0mg\u001b[1m)\u001b[0m\n"
      ]
     },
     "metadata": {},
     "output_type": "display_data"
    },
    {
     "name": "stdout",
     "output_type": "stream",
     "text": [
      "--####-- Chunk: 60 -####--\n"
     ]
    },
    {
     "data": {
      "text/html": [
       "<pre style=\"white-space:pre;overflow-x:auto;line-height:normal;font-family:Menlo,'DejaVu Sans Mono',consolas,'Courier New',monospace\">MA acknowledges and agrees that, in the event of a breach or threatened breach by MA, of the provisions of this \n",
       "Section <span style=\"color: #008080; text-decoration-color: #008080; font-weight: bold\">18</span>, no adequate remedy at law in money damages will be available to Company that will fairly compensate it \n",
       "and therefore Company will be entitled to an injunction against any such breach or threatened breach by MA.\n",
       "<span style=\"color: #008080; text-decoration-color: #008080; font-weight: bold\">19</span>.\n",
       "Confidential Information.\n",
       "<span style=\"color: #008000; text-decoration-color: #008000\">\"Confidential Information\"</span> Defined. Confidential Information includes: <span style=\"font-weight: bold\">(</span>a<span style=\"font-weight: bold\">)</span> the Technology <span style=\"font-weight: bold\">(</span>b<span style=\"font-weight: bold\">)</span> any personally \n",
       "identifiable data or information regarding any end user; <span style=\"font-weight: bold\">(</span>c<span style=\"font-weight: bold\">)</span> any and all information disclosed by Company to MA, in\n",
       "whatever format, that is either identified as or would reasonably be understood to be confidential and/or \n",
       "proprietary; <span style=\"font-weight: bold\">(</span>d<span style=\"font-weight: bold\">)</span> any notes, extracts, analyses or materials prepared by MA which are copies of or derivative works \n",
       "of Confidential Information or from which Confidential Information can be inferred or otherwise understood; and <span style=\"font-weight: bold\">(</span>e<span style=\"font-weight: bold\">)</span>\n",
       "the terms and conditions of this Agreement. Confidential Information does not include information received from \n",
       "Company that MA can clearly establish by written evidence: <span style=\"font-weight: bold\">(</span>x<span style=\"font-weight: bold\">)</span> is or becomes known to MA from a third party without\n",
       "an obligation to maintain its confidentiality; <span style=\"font-weight: bold\">(</span>y<span style=\"font-weight: bold\">)</span> is or becomes generally known to the public through no act or \n",
       "omission of MA; or <span style=\"font-weight: bold\">(</span>z<span style=\"font-weight: bold\">)</span> is independently developed by MA without the use of Confidential Information.\n",
       "</pre>\n"
      ],
      "text/plain": [
       "MA acknowledges and agrees that, in the event of a breach or threatened breach by MA, of the provisions of this \n",
       "Section \u001b[1;36m18\u001b[0m, no adequate remedy at law in money damages will be available to Company that will fairly compensate it \n",
       "and therefore Company will be entitled to an injunction against any such breach or threatened breach by MA.\n",
       "\u001b[1;36m19\u001b[0m.\n",
       "Confidential Information.\n",
       "\u001b[32m\"Confidential Information\"\u001b[0m Defined. Confidential Information includes: \u001b[1m(\u001b[0ma\u001b[1m)\u001b[0m the Technology \u001b[1m(\u001b[0mb\u001b[1m)\u001b[0m any personally \n",
       "identifiable data or information regarding any end user; \u001b[1m(\u001b[0mc\u001b[1m)\u001b[0m any and all information disclosed by Company to MA, in\n",
       "whatever format, that is either identified as or would reasonably be understood to be confidential and/or \n",
       "proprietary; \u001b[1m(\u001b[0md\u001b[1m)\u001b[0m any notes, extracts, analyses or materials prepared by MA which are copies of or derivative works \n",
       "of Confidential Information or from which Confidential Information can be inferred or otherwise understood; and \u001b[1m(\u001b[0me\u001b[1m)\u001b[0m\n",
       "the terms and conditions of this Agreement. Confidential Information does not include information received from \n",
       "Company that MA can clearly establish by written evidence: \u001b[1m(\u001b[0mx\u001b[1m)\u001b[0m is or becomes known to MA from a third party without\n",
       "an obligation to maintain its confidentiality; \u001b[1m(\u001b[0my\u001b[1m)\u001b[0m is or becomes generally known to the public through no act or \n",
       "omission of MA; or \u001b[1m(\u001b[0mz\u001b[1m)\u001b[0m is independently developed by MA without the use of Confidential Information.\n"
      ]
     },
     "metadata": {},
     "output_type": "display_data"
    },
    {
     "name": "stdout",
     "output_type": "stream",
     "text": [
      "--####-- Chunk: 61 -####--\n"
     ]
    },
    {
     "data": {
      "text/html": [
       "<pre style=\"white-space:pre;overflow-x:auto;line-height:normal;font-family:Menlo,'DejaVu Sans Mono',consolas,'Courier New',monospace\"><span style=\"color: #008080; text-decoration-color: #008080; font-weight: bold\">19.1</span>\n",
       "<span style=\"color: #008080; text-decoration-color: #008080; font-weight: bold\">11</span>\n",
       "</pre>\n"
      ],
      "text/plain": [
       "\u001b[1;36m19.1\u001b[0m\n",
       "\u001b[1;36m11\u001b[0m\n"
      ]
     },
     "metadata": {},
     "output_type": "display_data"
    },
    {
     "name": "stdout",
     "output_type": "stream",
     "text": [
      "--####-- Chunk: 62 -####--\n"
     ]
    },
    {
     "data": {
      "text/html": [
       "<pre style=\"white-space:pre;overflow-x:auto;line-height:normal;font-family:Menlo,'DejaVu Sans Mono',consolas,'Courier New',monospace\">MA's Obligations. MA will make no use of Confidential Information for any purpose except as expressly authorized by\n",
       "this Agreement. Except as expressly provided in this Agreement, MA will not disclose Confidential Information to \n",
       "any third party and will protect and treat all Confidential Information with the same degree of care as it uses to \n",
       "protect its own confidential information of like importance, but in no event with less than reasonable care. Except\n",
       "as expressly provided in this Agreement, MA will not use, make or have made any copies of Confidential Information,\n",
       "in whole or in part, without the prior written authorization of Company. In the event that MA is required to \n",
       "disclose Confidential Information pursuant to law, MA will notify Company of the required disclosure with \n",
       "sufficient time for Company to seek relief, will cooperate with Company in taking appropriate protective measures, \n",
       "and will make such disclosure in a fashion that maximizes protection of the Confidential Information from further \n",
       "disclosure.\n",
       "</pre>\n"
      ],
      "text/plain": [
       "MA's Obligations. MA will make no use of Confidential Information for any purpose except as expressly authorized by\n",
       "this Agreement. Except as expressly provided in this Agreement, MA will not disclose Confidential Information to \n",
       "any third party and will protect and treat all Confidential Information with the same degree of care as it uses to \n",
       "protect its own confidential information of like importance, but in no event with less than reasonable care. Except\n",
       "as expressly provided in this Agreement, MA will not use, make or have made any copies of Confidential Information,\n",
       "in whole or in part, without the prior written authorization of Company. In the event that MA is required to \n",
       "disclose Confidential Information pursuant to law, MA will notify Company of the required disclosure with \n",
       "sufficient time for Company to seek relief, will cooperate with Company in taking appropriate protective measures, \n",
       "and will make such disclosure in a fashion that maximizes protection of the Confidential Information from further \n",
       "disclosure.\n"
      ]
     },
     "metadata": {},
     "output_type": "display_data"
    },
    {
     "name": "stdout",
     "output_type": "stream",
     "text": [
      "--####-- Chunk: 63 -####--\n"
     ]
    },
    {
     "data": {
      "text/html": [
       "<pre style=\"white-space:pre;overflow-x:auto;line-height:normal;font-family:Menlo,'DejaVu Sans Mono',consolas,'Courier New',monospace\"><span style=\"color: #008080; text-decoration-color: #008080; font-weight: bold\">19.2</span>\n",
       "<span style=\"color: #008080; text-decoration-color: #008080; font-weight: bold\">19.3</span>\n",
       "Privacy/Data Collection. MA will at all times during the term of this Agreement maintain appropriate technical and \n",
       "organizational measures to protect any end-user data that it collects, accesses or processes in connection with \n",
       "this Agreement against unauthorized or unlawful use, disclosure, processing or alteration. MA will act only on \n",
       "Company's instructions in relation to the collection, use, disclosure and processing of any such end-user data, but\n",
       "in all instances in accordance with all applicable laws, rules and regulations.\n",
       "</pre>\n"
      ],
      "text/plain": [
       "\u001b[1;36m19.2\u001b[0m\n",
       "\u001b[1;36m19.3\u001b[0m\n",
       "Privacy/Data Collection. MA will at all times during the term of this Agreement maintain appropriate technical and \n",
       "organizational measures to protect any end-user data that it collects, accesses or processes in connection with \n",
       "this Agreement against unauthorized or unlawful use, disclosure, processing or alteration. MA will act only on \n",
       "Company's instructions in relation to the collection, use, disclosure and processing of any such end-user data, but\n",
       "in all instances in accordance with all applicable laws, rules and regulations.\n"
      ]
     },
     "metadata": {},
     "output_type": "display_data"
    },
    {
     "name": "stdout",
     "output_type": "stream",
     "text": [
      "--####-- Chunk: 64 -####--\n"
     ]
    },
    {
     "data": {
      "text/html": [
       "<pre style=\"white-space:pre;overflow-x:auto;line-height:normal;font-family:Menlo,'DejaVu Sans Mono',consolas,'Courier New',monospace\"><span style=\"color: #008080; text-decoration-color: #008080; font-weight: bold\">20</span>.\n",
       "Non\n",
       "\n",
       "-\n",
       "\n",
       "assignment.\n",
       "</pre>\n"
      ],
      "text/plain": [
       "\u001b[1;36m20\u001b[0m.\n",
       "Non\n",
       "\n",
       "-\n",
       "\n",
       "assignment.\n"
      ]
     },
     "metadata": {},
     "output_type": "display_data"
    },
    {
     "name": "stdout",
     "output_type": "stream",
     "text": [
      "--####-- Chunk: 65 -####--\n"
     ]
    },
    {
     "data": {
      "text/html": [
       "<pre style=\"white-space:pre;overflow-x:auto;line-height:normal;font-family:Menlo,'DejaVu Sans Mono',consolas,'Courier New',monospace\">MA may not assign, sell, lease or otherwise transfer in whole or in party any of the rights\n",
       "granted pursuant to this Agreement without prior written approval of Company.\n",
       "</pre>\n"
      ],
      "text/plain": [
       "MA may not assign, sell, lease or otherwise transfer in whole or in party any of the rights\n",
       "granted pursuant to this Agreement without prior written approval of Company.\n"
      ]
     },
     "metadata": {},
     "output_type": "display_data"
    },
    {
     "name": "stdout",
     "output_type": "stream",
     "text": [
      "--####-- Chunk: 66 -####--\n"
     ]
    },
    {
     "data": {
      "text/html": [
       "<pre style=\"white-space:pre;overflow-x:auto;line-height:normal;font-family:Menlo,'DejaVu Sans Mono',consolas,'Courier New',monospace\"><span style=\"color: #008080; text-decoration-color: #008080; font-weight: bold\">21</span>.\n",
       "Amendment.\n",
       "No amendment, change or variance from this Agreement shall be binding upon either party\n",
       "unless executed in writing and signed by an authorized representative of the party to be charged.\n",
       "</pre>\n"
      ],
      "text/plain": [
       "\u001b[1;36m21\u001b[0m.\n",
       "Amendment.\n",
       "No amendment, change or variance from this Agreement shall be binding upon either party\n",
       "unless executed in writing and signed by an authorized representative of the party to be charged.\n"
      ]
     },
     "metadata": {},
     "output_type": "display_data"
    },
    {
     "name": "stdout",
     "output_type": "stream",
     "text": [
      "--####-- Chunk: 67 -####--\n"
     ]
    },
    {
     "data": {
      "text/html": [
       "<pre style=\"white-space:pre;overflow-x:auto;line-height:normal;font-family:Menlo,'DejaVu Sans Mono',consolas,'Courier New',monospace\"><span style=\"color: #008080; text-decoration-color: #008080; font-weight: bold\">22</span>.\n",
       "Severability and Construction.\n",
       "Should any part of this Agreement, for any reason, be declared invalid by a court of competent jurisdiction, such \n",
       "determination shall be not affect the validity of any remaining portion, and such remaining portion shall remain in\n",
       "force and effect as if this Agreement had been executed with the invalid portion eliminated.\n",
       "<span style=\"color: #008080; text-decoration-color: #008080; font-weight: bold\">12</span>\n",
       "</pre>\n"
      ],
      "text/plain": [
       "\u001b[1;36m22\u001b[0m.\n",
       "Severability and Construction.\n",
       "Should any part of this Agreement, for any reason, be declared invalid by a court of competent jurisdiction, such \n",
       "determination shall be not affect the validity of any remaining portion, and such remaining portion shall remain in\n",
       "force and effect as if this Agreement had been executed with the invalid portion eliminated.\n",
       "\u001b[1;36m12\u001b[0m\n"
      ]
     },
     "metadata": {},
     "output_type": "display_data"
    },
    {
     "name": "stdout",
     "output_type": "stream",
     "text": [
      "--####-- Chunk: 68 -####--\n"
     ]
    },
    {
     "data": {
      "text/html": [
       "<pre style=\"white-space:pre;overflow-x:auto;line-height:normal;font-family:Menlo,'DejaVu Sans Mono',consolas,'Courier New',monospace\"><span style=\"color: #008080; text-decoration-color: #008080; font-weight: bold\">23</span>.\n",
       "Notices.\n",
       "Any notice required under this Agreement shall be deemed to have been given when hand- delivered or on the date of \n",
       "mailing when mailed by standard Mail, postage prepaid, and addressed to the party to receive such notice at the \n",
       "address designated below, or such other address as the party may from time to time direct in writing.\n",
       "Governing Law Attorneys Fee.\n",
       "</pre>\n"
      ],
      "text/plain": [
       "\u001b[1;36m23\u001b[0m.\n",
       "Notices.\n",
       "Any notice required under this Agreement shall be deemed to have been given when hand- delivered or on the date of \n",
       "mailing when mailed by standard Mail, postage prepaid, and addressed to the party to receive such notice at the \n",
       "address designated below, or such other address as the party may from time to time direct in writing.\n",
       "Governing Law Attorneys Fee.\n"
      ]
     },
     "metadata": {},
     "output_type": "display_data"
    },
    {
     "name": "stdout",
     "output_type": "stream",
     "text": [
      "--####-- Chunk: 69 -####--\n"
     ]
    },
    {
     "data": {
      "text/html": [
       "<pre style=\"white-space:pre;overflow-x:auto;line-height:normal;font-family:Menlo,'DejaVu Sans Mono',consolas,'Courier New',monospace\"><span style=\"color: #008080; text-decoration-color: #008080; font-weight: bold\">24</span>.\n",
       "This Agreement is accepted by Company in the State of Nevada and shall be governed by and construed in accordance \n",
       "with the laws thereof, which laws shall prevail in the event of any conflict. For such limited purpose, MA hereby \n",
       "consents to the personal jurisdiction of any court of competent jurisdiction in the State of Nevada. If any legal \n",
       "action or proceeding is initiated, the prevailing party shall be entitled to all attorney fees, court costs, and \n",
       "expenses in addition to any other relief to which such prevailing party may be entitled.\n",
       "</pre>\n"
      ],
      "text/plain": [
       "\u001b[1;36m24\u001b[0m.\n",
       "This Agreement is accepted by Company in the State of Nevada and shall be governed by and construed in accordance \n",
       "with the laws thereof, which laws shall prevail in the event of any conflict. For such limited purpose, MA hereby \n",
       "consents to the personal jurisdiction of any court of competent jurisdiction in the State of Nevada. If any legal \n",
       "action or proceeding is initiated, the prevailing party shall be entitled to all attorney fees, court costs, and \n",
       "expenses in addition to any other relief to which such prevailing party may be entitled.\n"
      ]
     },
     "metadata": {},
     "output_type": "display_data"
    },
    {
     "name": "stdout",
     "output_type": "stream",
     "text": [
      "--####-- Chunk: 70 -####--\n"
     ]
    },
    {
     "data": {
      "text/html": [
       "<pre style=\"white-space:pre;overflow-x:auto;line-height:normal;font-family:Menlo,'DejaVu Sans Mono',consolas,'Courier New',monospace\"><span style=\"color: #008080; text-decoration-color: #008080; font-weight: bold\">25</span>.\n",
       "Equitable Relief.\n",
       "</pre>\n"
      ],
      "text/plain": [
       "\u001b[1;36m25\u001b[0m.\n",
       "Equitable Relief.\n"
      ]
     },
     "metadata": {},
     "output_type": "display_data"
    },
    {
     "name": "stdout",
     "output_type": "stream",
     "text": [
      "--####-- Chunk: 71 -####--\n"
     ]
    },
    {
     "data": {
      "text/html": [
       "<pre style=\"white-space:pre;overflow-x:auto;line-height:normal;font-family:Menlo,'DejaVu Sans Mono',consolas,'Courier New',monospace\">MA acknowledges that any breach or threatened breach of this Agreement involving an unauthorized use of \n",
       "Confidential Information or Company and/or its Affiliates intellectual property will result in irreparable harm to \n",
       "Company and/or its Affiliate for which damages would not be an adequate remedy, and therefore, in addition to its \n",
       "rights and remedies otherwise available at law, Company and/or its Affiliate will be entitled to seek injunctive or\n",
       "other equitable relief, as appropriate, and MA hereby waives the right to require Company and/or its Affiliate to \n",
       "post a bond. If Company and/or its Affiliate seeks injunctive or other equitable relief in the event of a breach or\n",
       "threatened breach of this Agreement by MA involving an unauthorized use of Confidential Information or Company \n",
       "and/or its Affiliate intellectual property, MA agrees that it will not allege in any such proceeding that Company \n",
       "and/or its Affiliate remedy at law is adequate. If Company and/or its Affiliate seek any equitable remedies, it \n",
       "will not be precluded or prevented from seeking remedies at law, nor will Company and/or its Affiliate be deemed to\n",
       "have made an election of remedies.\n",
       "</pre>\n"
      ],
      "text/plain": [
       "MA acknowledges that any breach or threatened breach of this Agreement involving an unauthorized use of \n",
       "Confidential Information or Company and/or its Affiliates intellectual property will result in irreparable harm to \n",
       "Company and/or its Affiliate for which damages would not be an adequate remedy, and therefore, in addition to its \n",
       "rights and remedies otherwise available at law, Company and/or its Affiliate will be entitled to seek injunctive or\n",
       "other equitable relief, as appropriate, and MA hereby waives the right to require Company and/or its Affiliate to \n",
       "post a bond. If Company and/or its Affiliate seeks injunctive or other equitable relief in the event of a breach or\n",
       "threatened breach of this Agreement by MA involving an unauthorized use of Confidential Information or Company \n",
       "and/or its Affiliate intellectual property, MA agrees that it will not allege in any such proceeding that Company \n",
       "and/or its Affiliate remedy at law is adequate. If Company and/or its Affiliate seek any equitable remedies, it \n",
       "will not be precluded or prevented from seeking remedies at law, nor will Company and/or its Affiliate be deemed to\n",
       "have made an election of remedies.\n"
      ]
     },
     "metadata": {},
     "output_type": "display_data"
    },
    {
     "name": "stdout",
     "output_type": "stream",
     "text": [
      "--####-- Chunk: 72 -####--\n"
     ]
    },
    {
     "data": {
      "text/html": [
       "<pre style=\"white-space:pre;overflow-x:auto;line-height:normal;font-family:Menlo,'DejaVu Sans Mono',consolas,'Courier New',monospace\"><span style=\"color: #008080; text-decoration-color: #008080; font-weight: bold\">26</span>.\n",
       "Entire Agreement.\n",
       "This Agreement contains the entire agreement between the parties, and no representations, statements or \n",
       "inducements, oral or written, not contained herein, shall be binding upon the parties. Company expressly disclaims \n",
       "the making of, and MA acknowledges that it has not received a warranty or guaranty, express or implied, as to the \n",
       "potential volume, profits or success of the business venture contemplated by this Agreement.\n",
       "<span style=\"color: #008080; text-decoration-color: #008080; font-weight: bold\">13</span>\n",
       "This Agreement was executed as of the date set forth above.\n",
       "</pre>\n"
      ],
      "text/plain": [
       "\u001b[1;36m26\u001b[0m.\n",
       "Entire Agreement.\n",
       "This Agreement contains the entire agreement between the parties, and no representations, statements or \n",
       "inducements, oral or written, not contained herein, shall be binding upon the parties. Company expressly disclaims \n",
       "the making of, and MA acknowledges that it has not received a warranty or guaranty, express or implied, as to the \n",
       "potential volume, profits or success of the business venture contemplated by this Agreement.\n",
       "\u001b[1;36m13\u001b[0m\n",
       "This Agreement was executed as of the date set forth above.\n"
      ]
     },
     "metadata": {},
     "output_type": "display_data"
    },
    {
     "name": "stdout",
     "output_type": "stream",
     "text": [
      "--####-- Chunk: 73 -####--\n"
     ]
    },
    {
     "data": {
      "text/html": [
       "<pre style=\"white-space:pre;overflow-x:auto;line-height:normal;font-family:Menlo,'DejaVu Sans Mono',consolas,'Courier New',monospace\">COMPANY\n",
       "MA\n",
       "BIRCH FIRST INVESTMENTS INC. A US Virgin Islands corporation\n",
       "MOUNT KNOWLEDGE HOLDINGS INC. A Nevada corporation\n",
       "By: <span style=\"color: #800080; text-decoration-color: #800080\">/s/</span> Pier S. Bjorklund Pier S. Bjorklund, President\n",
       "By: <span style=\"color: #800080; text-decoration-color: #800080\">/s/</span> James D. Beatty James D. Beatty, CEO and President\n",
       "<span style=\"color: #008080; text-decoration-color: #008080; font-weight: bold\">14</span>\n",
       "</pre>\n"
      ],
      "text/plain": [
       "COMPANY\n",
       "MA\n",
       "BIRCH FIRST INVESTMENTS INC. A US Virgin Islands corporation\n",
       "MOUNT KNOWLEDGE HOLDINGS INC. A Nevada corporation\n",
       "By: \u001b[35m/s/\u001b[0m Pier S. Bjorklund Pier S. Bjorklund, President\n",
       "By: \u001b[35m/s/\u001b[0m James D. Beatty James D. Beatty, CEO and President\n",
       "\u001b[1;36m14\u001b[0m\n"
      ]
     },
     "metadata": {},
     "output_type": "display_data"
    },
    {
     "name": "stdout",
     "output_type": "stream",
     "text": [
      "--####-- Chunk: 74 -####--\n"
     ]
    },
    {
     "data": {
      "text/html": [
       "<pre style=\"white-space:pre;overflow-x:auto;line-height:normal;font-family:Menlo,'DejaVu Sans Mono',consolas,'Courier New',monospace\">SCHEDULE A\n",
       "MARKETING AFFILIATE Technology PRICING AND TERMS\n",
       "<span style=\"color: #008080; text-decoration-color: #008080; font-weight: bold\">1</span>.\n",
       "Technology PRICING AND TERMS MATRIX.\n",
       "MA QUOTA <span style=\"font-weight: bold\">(</span>UNITS OR Dollars<span style=\"font-weight: bold\">)</span><span style=\"color: #008080; text-decoration-color: #008080; font-weight: bold\">2</span> $<span style=\"color: #008080; text-decoration-color: #008080; font-weight: bold\">1</span>,<span style=\"color: #008080; text-decoration-color: #008080; font-weight: bold\">000</span>,<span style=\"color: #008080; text-decoration-color: #008080; font-weight: bold\">001</span> and above $<span style=\"color: #008080; text-decoration-color: #008080; font-weight: bold\">100</span>,<span style=\"color: #008080; text-decoration-color: #008080; font-weight: bold\">001</span> to $<span style=\"color: #008080; text-decoration-color: #008080; font-weight: bold\">1</span>,<span style=\"color: #008080; text-decoration-color: #008080; font-weight: bold\">000</span>,<span style=\"color: #008080; text-decoration-color: #008080; font-weight: bold\">000</span> $ <span style=\"color: #008080; text-decoration-color: #008080; font-weight: bold\">0</span> to $<span style=\"color: #008080; text-decoration-color: #008080; font-weight: bold\">100</span>,<span style=\"color: #008080; text-decoration-color: #008080; font-weight: bold\">000</span>\n",
       "MA PURCHASE LEVEL1\n",
       "MA PURCHASE DISCOUNT3\n",
       "III\n",
       "<span style=\"color: #008080; text-decoration-color: #008080; font-weight: bold\">25</span>%\n",
       "</pre>\n"
      ],
      "text/plain": [
       "SCHEDULE A\n",
       "MARKETING AFFILIATE Technology PRICING AND TERMS\n",
       "\u001b[1;36m1\u001b[0m.\n",
       "Technology PRICING AND TERMS MATRIX.\n",
       "MA QUOTA \u001b[1m(\u001b[0mUNITS OR Dollars\u001b[1m)\u001b[0m\u001b[1;36m2\u001b[0m $\u001b[1;36m1\u001b[0m,\u001b[1;36m000\u001b[0m,\u001b[1;36m001\u001b[0m and above $\u001b[1;36m100\u001b[0m,\u001b[1;36m001\u001b[0m to $\u001b[1;36m1\u001b[0m,\u001b[1;36m000\u001b[0m,\u001b[1;36m000\u001b[0m $ \u001b[1;36m0\u001b[0m to $\u001b[1;36m100\u001b[0m,\u001b[1;36m000\u001b[0m\n",
       "MA PURCHASE LEVEL1\n",
       "MA PURCHASE DISCOUNT3\n",
       "III\n",
       "\u001b[1;36m25\u001b[0m%\n"
      ]
     },
     "metadata": {},
     "output_type": "display_data"
    },
    {
     "name": "stdout",
     "output_type": "stream",
     "text": [
      "--####-- Chunk: 75 -####--\n"
     ]
    },
    {
     "data": {
      "text/html": [
       "<pre style=\"white-space:pre;overflow-x:auto;line-height:normal;font-family:Menlo,'DejaVu Sans Mono',consolas,'Courier New',monospace\">II\n",
       "<span style=\"color: #008080; text-decoration-color: #008080; font-weight: bold\">20</span>%\n",
       "I\n",
       "<span style=\"color: #008080; text-decoration-color: #008080; font-weight: bold\">15</span>%\n",
       "Note <span style=\"color: #008080; text-decoration-color: #008080; font-weight: bold\">1</span>:\n",
       "</pre>\n"
      ],
      "text/plain": [
       "II\n",
       "\u001b[1;36m20\u001b[0m%\n",
       "I\n",
       "\u001b[1;36m15\u001b[0m%\n",
       "Note \u001b[1;36m1\u001b[0m:\n"
      ]
     },
     "metadata": {},
     "output_type": "display_data"
    },
    {
     "name": "stdout",
     "output_type": "stream",
     "text": [
      "--####-- Chunk: 76 -####--\n"
     ]
    },
    {
     "data": {
      "text/html": [
       "<pre style=\"white-space:pre;overflow-x:auto;line-height:normal;font-family:Menlo,'DejaVu Sans Mono',consolas,'Courier New',monospace\">PURCHASE LEVEL  refers to level of purchased Technology on an annual basis, subject to annual review of the past \n",
       "twelve months following the anniversary date of this Agreement.\n",
       "Note <span style=\"color: #008080; text-decoration-color: #008080; font-weight: bold\">2</span>:\n",
       "</pre>\n"
      ],
      "text/plain": [
       "PURCHASE LEVEL  refers to level of purchased Technology on an annual basis, subject to annual review of the past \n",
       "twelve months following the anniversary date of this Agreement.\n",
       "Note \u001b[1;36m2\u001b[0m:\n"
      ]
     },
     "metadata": {},
     "output_type": "display_data"
    },
    {
     "name": "stdout",
     "output_type": "stream",
     "text": [
      "--####-- Chunk: 77 -####--\n"
     ]
    },
    {
     "data": {
      "text/html": [
       "<pre style=\"white-space:pre;overflow-x:auto;line-height:normal;font-family:Menlo,'DejaVu Sans Mono',consolas,'Courier New',monospace\">PURCHASE QUOTA - refers to certain purchase amount levels in which MA may receive additional discounts, subject to \n",
       "additional terms and conditions.\n",
       "Note <span style=\"color: #008080; text-decoration-color: #008080; font-weight: bold\">3</span>:\n",
       "</pre>\n"
      ],
      "text/plain": [
       "PURCHASE QUOTA - refers to certain purchase amount levels in which MA may receive additional discounts, subject to \n",
       "additional terms and conditions.\n",
       "Note \u001b[1;36m3\u001b[0m:\n"
      ]
     },
     "metadata": {},
     "output_type": "display_data"
    },
    {
     "name": "stdout",
     "output_type": "stream",
     "text": [
      "--####-- Chunk: 78 -####--\n"
     ]
    },
    {
     "data": {
      "text/html": [
       "<pre style=\"white-space:pre;overflow-x:auto;line-height:normal;font-family:Menlo,'DejaVu Sans Mono',consolas,'Courier New',monospace\">PURCHASE DISCOUNT  refers to the applicable discount available to MA purchases made from Company at Levels II and \n",
       "III with Level I being the original purchase price per Unit <span style=\"font-weight: bold\">(</span>or Package<span style=\"font-weight: bold\">)</span> amount for the Technology which MA pays \n",
       "Company.\n",
       "Note <span style=\"color: #008080; text-decoration-color: #008080; font-weight: bold\">4</span>:\n",
       "</pre>\n"
      ],
      "text/plain": [
       "PURCHASE DISCOUNT  refers to the applicable discount available to MA purchases made from Company at Levels II and \n",
       "III with Level I being the original purchase price per Unit \u001b[1m(\u001b[0mor Package\u001b[1m)\u001b[0m amount for the Technology which MA pays \n",
       "Company.\n",
       "Note \u001b[1;36m4\u001b[0m:\n"
      ]
     },
     "metadata": {},
     "output_type": "display_data"
    },
    {
     "name": "stdout",
     "output_type": "stream",
     "text": [
      "--####-- Chunk: 79 -####--\n"
     ]
    },
    {
     "data": {
      "text/html": [
       "<pre style=\"white-space:pre;overflow-x:auto;line-height:normal;font-family:Menlo,'DejaVu Sans Mono',consolas,'Courier New',monospace\">INITIAL ORDER COMMITMENT  MA commits to purchase a minimum of <span style=\"color: #008080; text-decoration-color: #008080; font-weight: bold\">100</span> Units in aggregate within the Territory within \n",
       "the first six months of term of this Agreement.\n",
       "Note <span style=\"color: #008080; text-decoration-color: #008080; font-weight: bold\">5</span>:\n",
       "</pre>\n"
      ],
      "text/plain": [
       "INITIAL ORDER COMMITMENT  MA commits to purchase a minimum of \u001b[1;36m100\u001b[0m Units in aggregate within the Territory within \n",
       "the first six months of term of this Agreement.\n",
       "Note \u001b[1;36m5\u001b[0m:\n"
      ]
     },
     "metadata": {},
     "output_type": "display_data"
    },
    {
     "name": "stdout",
     "output_type": "stream",
     "text": [
      "--####-- Chunk: 80 -####--\n"
     ]
    },
    {
     "data": {
      "text/html": [
       "<pre style=\"white-space:pre;overflow-x:auto;line-height:normal;font-family:Menlo,'DejaVu Sans Mono',consolas,'Courier New',monospace\">SALES PERSONS  MA shall at all times have certified sales persons trained by Company on staff in accordance with \n",
       "certain minimums defined by each Purchase Level.\n",
       "Note <span style=\"color: #008080; text-decoration-color: #008080; font-weight: bold\">6</span>:\n",
       "</pre>\n"
      ],
      "text/plain": [
       "SALES PERSONS  MA shall at all times have certified sales persons trained by Company on staff in accordance with \n",
       "certain minimums defined by each Purchase Level.\n",
       "Note \u001b[1;36m6\u001b[0m:\n"
      ]
     },
     "metadata": {},
     "output_type": "display_data"
    },
    {
     "name": "stdout",
     "output_type": "stream",
     "text": [
      "--####-- Chunk: 81 -####--\n"
     ]
    },
    {
     "data": {
      "text/html": [
       "<pre style=\"white-space:pre;overflow-x:auto;line-height:normal;font-family:Menlo,'DejaVu Sans Mono',consolas,'Courier New',monospace\">SUPPORT PERSONS - MA shall at all times have certified support persons trained by Company on staff in accordance \n",
       "with certain minimums defined by each Purchase Level.\n",
       "<span style=\"color: #008080; text-decoration-color: #008080; font-weight: bold\">2</span>.\n",
       "Technology DESCRIPTION AND PRICING.\n",
       "The Products approved for sale in this Agreement shall be referred to as ECO related platform and content. \n",
       "<span style=\"font-weight: bold\">(</span>Technology<span style=\"font-weight: bold\">)</span> referred to as:\n",
       "English Communications Online <span style=\"font-weight: bold\">(</span>ECO<span style=\"font-weight: bold\">)</span> \n",
       "<span style=\"font-weight: bold\">(</span>a<span style=\"font-weight: bold\">)</span>\n",
       "<span style=\"color: #008080; text-decoration-color: #008080; font-weight: bold\">15</span>\n",
       "List Pricing for Technology shall be as follows:\n",
       "<span style=\"font-weight: bold\">(</span>a<span style=\"font-weight: bold\">)</span>\n",
       "<span style=\"font-weight: bold\">(</span>Price List for products and or services<span style=\"font-weight: bold\">)</span>\n",
       "</pre>\n"
      ],
      "text/plain": [
       "SUPPORT PERSONS - MA shall at all times have certified support persons trained by Company on staff in accordance \n",
       "with certain minimums defined by each Purchase Level.\n",
       "\u001b[1;36m2\u001b[0m.\n",
       "Technology DESCRIPTION AND PRICING.\n",
       "The Products approved for sale in this Agreement shall be referred to as ECO related platform and content. \n",
       "\u001b[1m(\u001b[0mTechnology\u001b[1m)\u001b[0m referred to as:\n",
       "English Communications Online \u001b[1m(\u001b[0mECO\u001b[1m)\u001b[0m \n",
       "\u001b[1m(\u001b[0ma\u001b[1m)\u001b[0m\n",
       "\u001b[1;36m15\u001b[0m\n",
       "List Pricing for Technology shall be as follows:\n",
       "\u001b[1m(\u001b[0ma\u001b[1m)\u001b[0m\n",
       "\u001b[1m(\u001b[0mPrice List for products and or services\u001b[1m)\u001b[0m\n"
      ]
     },
     "metadata": {},
     "output_type": "display_data"
    },
    {
     "name": "stdout",
     "output_type": "stream",
     "text": [
      "--####-- Chunk: 82 -####--\n"
     ]
    },
    {
     "data": {
      "text/html": [
       "<pre style=\"white-space:pre;overflow-x:auto;line-height:normal;font-family:Menlo,'DejaVu Sans Mono',consolas,'Courier New',monospace\"><span style=\"color: #008080; text-decoration-color: #008080; font-weight: bold\">3</span>.\n",
       "SERVICE FEE.\n",
       "Upon the execution of this Agreement, MA shall pay to Company a quarterly service fee <span style=\"font-weight: bold\">(</span>the Service Fee<span style=\"font-weight: bold\">)</span> in the \n",
       "amount equal to US $<span style=\"color: #008080; text-decoration-color: #008080; font-weight: bold\">15</span>,<span style=\"color: #008080; text-decoration-color: #008080; font-weight: bold\">000.00</span> on the first day of each quarter for the Term of this Agreement as set forth in \n",
       "Section <span style=\"color: #008080; text-decoration-color: #008080; font-weight: bold\">1</span> hereinabove, for each month that MA has no sales pursuant to this Schedule A, with the first payment due \n",
       "and payable on the date of execution of this Agreement.\n",
       "</pre>\n"
      ],
      "text/plain": [
       "\u001b[1;36m3\u001b[0m.\n",
       "SERVICE FEE.\n",
       "Upon the execution of this Agreement, MA shall pay to Company a quarterly service fee \u001b[1m(\u001b[0mthe Service Fee\u001b[1m)\u001b[0m in the \n",
       "amount equal to US $\u001b[1;36m15\u001b[0m,\u001b[1;36m000.00\u001b[0m on the first day of each quarter for the Term of this Agreement as set forth in \n",
       "Section \u001b[1;36m1\u001b[0m hereinabove, for each month that MA has no sales pursuant to this Schedule A, with the first payment due \n",
       "and payable on the date of execution of this Agreement.\n"
      ]
     },
     "metadata": {},
     "output_type": "display_data"
    },
    {
     "name": "stdout",
     "output_type": "stream",
     "text": [
      "--####-- Chunk: 83 -####--\n"
     ]
    },
    {
     "data": {
      "text/html": [
       "<pre style=\"white-space:pre;overflow-x:auto;line-height:normal;font-family:Menlo,'DejaVu Sans Mono',consolas,'Courier New',monospace\"><span style=\"color: #008080; text-decoration-color: #008080; font-weight: bold\">4</span>.\n",
       "TERMS.\n",
       "Unless otherwise approved by Company, Level I, II and III terms for payment to Company are Net <span style=\"color: #008080; text-decoration-color: #008080; font-weight: bold\">30</span> days on \n",
       "Technology licensed from Company.\n",
       "</pre>\n"
      ],
      "text/plain": [
       "\u001b[1;36m4\u001b[0m.\n",
       "TERMS.\n",
       "Unless otherwise approved by Company, Level I, II and III terms for payment to Company are Net \u001b[1;36m30\u001b[0m days on \n",
       "Technology licensed from Company.\n"
      ]
     },
     "metadata": {},
     "output_type": "display_data"
    },
    {
     "name": "stdout",
     "output_type": "stream",
     "text": [
      "--####-- Chunk: 84 -####--\n"
     ]
    },
    {
     "data": {
      "text/html": [
       "<pre style=\"white-space:pre;overflow-x:auto;line-height:normal;font-family:Menlo,'DejaVu Sans Mono',consolas,'Courier New',monospace\"><span style=\"color: #008080; text-decoration-color: #008080; font-weight: bold\">5</span>.\n",
       "TERRITORY.\n",
       "MA is authorized to resell Technology within the following territory according to the terms of the Agreement:\n",
       "<span style=\"font-weight: bold\">(</span>a<span style=\"font-weight: bold\">)</span>\n",
       "Worldwide\n",
       "<span style=\"color: #008080; text-decoration-color: #008080; font-weight: bold\">16</span>\n",
       "</pre>\n"
      ],
      "text/plain": [
       "\u001b[1;36m5\u001b[0m.\n",
       "TERRITORY.\n",
       "MA is authorized to resell Technology within the following territory according to the terms of the Agreement:\n",
       "\u001b[1m(\u001b[0ma\u001b[1m)\u001b[0m\n",
       "Worldwide\n",
       "\u001b[1;36m16\u001b[0m\n"
      ]
     },
     "metadata": {},
     "output_type": "display_data"
    }
   ],
   "source": [
    "# Example usage\n",
    "from segmentationv2 import *\n",
    "\n",
    "# Document to process\n",
    "file_path = '01.pdf'\n",
    "\n",
    "# Declare the locators or anchors for H1 H2 and H3\n",
    "import string\n",
    "\n",
    "H1_1 = ['SECTION', 'ARTICLE', 'DEFINITIONS']\n",
    "H1_2 = ['I. ', 'II. ', 'III. ', 'IV. ', 'V. ', 'VI. ', 'VII. ', 'VIII. ', 'IX. ', 'X. ']\n",
    "H1_3 = ['1.','2.','3.','4.','5.','6.','7.','8.','9.','10.','11.','12.','13.','14.','15.','16.','17.','18.','19.','20.']\n",
    "H1_4 = [f\"{a}{b}\" for a in string.ascii_uppercase for b in string.ascii_uppercase] # Combination of two capital letters together\n",
    "H1_5 = [f\"{i}.{j}\" for i in range(1, 20) for j in range(1, 20)] # two digits separated by a dot\n",
    "H1_6 = ['A. ', 'B. ', 'C. ', 'D. ', 'E. ', 'F. ', 'G. ', 'H. ', 'I. ', 'J. ', 'K. ', 'L. ', 'M. ', 'N. ', 'O. ', 'P. ', 'Q. ', 'R. ', 'S. ', 'T. ', 'U. ', 'V. ', 'W. ', 'X. ', 'Y. ', 'Z. ']\n",
    "H1s =  H1_1 + H1_2 + H1_3 + H1_4 + H1_5 + H1_6\n",
    "\n",
    "H2s = []\n",
    "H3s = []\n",
    "\n",
    "# Base processing\n",
    "df = base_processing(file_path, H1s, H2s, H3s)\n",
    "\n",
    "\n",
    "# Clean if need it\n",
    "df = df[~df['elements'].isin(['footer', 'page_break'])].reset_index(drop=True)\n",
    "df['H_level'] = df['elements']\n",
    "\n",
    "# Consolidation\n",
    "df = build_parent_tree(df)\n",
    "df = consolidate_sections(df)\n",
    "df = build_parent_tree(df)\n",
    "df = merge_p_with_previous_level(df)\n",
    "# # df = build_parent_tree(df)\n",
    "\n",
    "# full_print(df)\n",
    "pretty_print(df)"
   ]
  }
 ],
 "metadata": {
  "kernelspec": {
   "display_name": "langchain",
   "language": "python",
   "name": "python3"
  },
  "language_info": {
   "codemirror_mode": {
    "name": "ipython",
    "version": 3
   },
   "file_extension": ".py",
   "mimetype": "text/x-python",
   "name": "python",
   "nbconvert_exporter": "python",
   "pygments_lexer": "ipython3",
   "version": "3.10.13"
  }
 },
 "nbformat": 4,
 "nbformat_minor": 2
}
